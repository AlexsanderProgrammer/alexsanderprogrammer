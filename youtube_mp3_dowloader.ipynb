{
  "nbformat": 4,
  "nbformat_minor": 0,
  "metadata": {
    "colab": {
      "name": "youtube-mp3-dowloader.ipynb",
      "provenance": [],
      "include_colab_link": true
    },
    "kernelspec": {
      "name": "python3",
      "display_name": "Python 3"
    },
    "language_info": {
      "name": "python"
    }
  },
  "cells": [
    {
      "cell_type": "markdown",
      "metadata": {
        "id": "view-in-github",
        "colab_type": "text"
      },
      "source": [
        "<a href=\"https://colab.research.google.com/github/AlexsanderProgrammer/AlexsanderProgrammer/blob/main/youtube_mp3_dowloader.ipynb\" target=\"_parent\"><img src=\"https://colab.research.google.com/assets/colab-badge.svg\" alt=\"Open In Colab\"/></a>"
      ]
    },
    {
      "cell_type": "code",
      "execution_count": null,
      "metadata": {
        "colab": {
          "base_uri": "https://localhost:8080/"
        },
        "id": "CEg56OQGw3s6",
        "outputId": "730df49e-ade5-4d76-b8bf-f9ed623e5d3f"
      },
      "outputs": [
        {
          "output_type": "stream",
          "name": "stdout",
          "text": [
            "Looking in indexes: https://pypi.org/simple, https://us-python.pkg.dev/colab-wheels/public/simple/\n",
            "Collecting pytube\n",
            "  Downloading pytube-12.1.0-py3-none-any.whl (56 kB)\n",
            "\u001b[K     |████████████████████████████████| 56 kB 2.3 MB/s \n",
            "\u001b[?25hInstalling collected packages: pytube\n",
            "Successfully installed pytube-12.1.0\n"
          ]
        }
      ],
      "source": [
        "pip install pytube"
      ]
    },
    {
      "cell_type": "code",
      "source": [
        "from pytube import YouTube\n",
        "import os"
      ],
      "metadata": {
        "id": "XwBCmddUxHuB"
      },
      "execution_count": null,
      "outputs": []
    },
    {
      "cell_type": "code",
      "source": [
        "# URL\n",
        "yt = YouTube(str(input(\"Digite a URL do video: \\n>>>\")))\n",
        "\n",
        "#Extraindo audio\n",
        "video = yt.streams.filter(only_audio=True).first()\n",
        "\n",
        "#Verificando desstino para salvar\n",
        "print(\"Digite o caminho para salvar(deixe em branco para salvar nesse diretorio)\")\n",
        "destino = str(input(\">>\")) or '.'\n",
        "\n",
        "#Baixando \n",
        "arquivo_externo = video.download(output_path=destino)\n",
        "\n",
        "#Salvando\n",
        "base, ext = os.path.splitext(arquivo_externo)\n",
        "novo_arquivo = base + '.mp3'\n",
        "os.rename(arquivo_externo, novo_arquivo)\n",
        "\n",
        "#resultado do sucesso\n",
        "print(yt.title + \" foi baixado com sucesso em formato .mp3\")"
      ],
      "metadata": {
        "colab": {
          "base_uri": "https://localhost:8080/"
        },
        "id": "S0gm1u6uxWaO",
        "outputId": "be595ff3-97be-4327-e341-a7153a6f0fe1"
      },
      "execution_count": null,
      "outputs": [
        {
          "output_type": "stream",
          "name": "stdout",
          "text": [
            "Digite a URL do video: \n",
            ">>>https://youtu.be/DV3ZnGLe-Ek\n",
            "Digite o caminho para salvar(deixe em branco para salvar nesse diretorio)\n",
            ">>\n",
            "Eminem - Lose Yourself - Legendado - Sem Censura - HDfoi baixado com sucesso em formato .mp3\n"
          ]
        }
      ]
    }
  ]
}