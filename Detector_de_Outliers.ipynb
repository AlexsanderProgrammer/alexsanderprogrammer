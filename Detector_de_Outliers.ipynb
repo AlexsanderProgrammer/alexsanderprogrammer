{
  "nbformat": 4,
  "nbformat_minor": 0,
  "metadata": {
    "colab": {
      "name": "Detector de Outliers.ipynb",
      "provenance": [],
      "authorship_tag": "ABX9TyOA11TxS5toaiCLuFnknXvo",
      "include_colab_link": true
    },
    "kernelspec": {
      "name": "python3",
      "display_name": "Python 3"
    },
    "language_info": {
      "name": "python"
    }
  },
  "cells": [
    {
      "cell_type": "markdown",
      "metadata": {
        "id": "view-in-github",
        "colab_type": "text"
      },
      "source": [
        "<a href=\"https://colab.research.google.com/github/AlexsanderProgrammer/AlexsanderProgrammer/blob/main/Detector_de_Outliers.ipynb\" target=\"_parent\"><img src=\"https://colab.research.google.com/assets/colab-badge.svg\" alt=\"Open In Colab\"/></a>"
      ]
    },
    {
      "cell_type": "markdown",
      "source": [
        "Detector de Outliers(Teste de Grubbs)"
      ],
      "metadata": {
        "id": "RBj2TSyvEZpp"
      }
    },
    {
      "cell_type": "code",
      "source": [
        "#importando bibliotecas para calculos\n",
        "import scipy.stats as stats\n",
        "import numpy as np"
      ],
      "metadata": {
        "id": "ObLcmc4PEdat"
      },
      "execution_count": 1,
      "outputs": []
    },
    {
      "cell_type": "markdown",
      "source": [
        "Criando 2 variáveis para testar"
      ],
      "metadata": {
        "id": "i_kGZfcSHRl1"
      }
    },
    {
      "cell_type": "code",
      "source": [
        "x = np.array([12,13,14,19,21,23,80])"
      ],
      "metadata": {
        "id": "SYLURlQ2HPen"
      },
      "execution_count": 19,
      "outputs": []
    },
    {
      "cell_type": "code",
      "source": [
        "y = np.array([12,13,14,19,21,23,45])"
      ],
      "metadata": {
        "id": "MRckAxfXHl8_"
      },
      "execution_count": 18,
      "outputs": []
    },
    {
      "cell_type": "markdown",
      "source": [
        "Criando detector de Outliers"
      ],
      "metadata": {
        "id": "Suc1B2RjHw68"
      }
    },
    {
      "cell_type": "code",
      "source": [
        "def outliers_test(x):\n",
        "\n",
        "  ##############################################\n",
        "\n",
        "  n = len(x)\n",
        "  mean_x = np.mean(x)\n",
        "  sd_x = np.std(x)\n",
        "  numerator = max(abs(x-mean_x))\n",
        "  g_calculated = numerator/sd_x\n",
        "\n",
        "  ### Valor calculado\n",
        "  print(\" Grubbs Valor Calculado:\", g_calculated)\n",
        "\n",
        "  ################################################\n",
        "\n",
        "  # Teste \"T\"\n",
        "  t_value = stats.t.ppf(1 - 0.05 /( 2 * n), n-2)\n",
        "\n",
        "  # Formula de Grubbs\n",
        "  g_critical = ((n - 1) * np.sqrt(np.square(t_value))) / (np.sqrt(n) * np.sqrt(n - 2 + np.square(t_value)))\n",
        "\n",
        "  ### Valor Critico\n",
        "  print(\" Grubbs Valor Critico:\", g_critical)\n",
        "\n",
        "  ################################################\n",
        "\n",
        "  # Avaliando o resultado do Teste de Grubbs para confirmar se existe Outlier\n",
        "\n",
        "  if g_critical > g_calculated:\n",
        "    print(\" Observamos que o valor calculado é menor que o valor critico. Aceitamos a Hipótese de que NÃO há outliers\\n\")\n",
        "  else:\n",
        "    print(\" Observamos que o valor calculado é MAIOR que o valor critico. Confirmamos a Hipótese de que HÁ outiliers\\n\")\n",
        "\n",
        "print(\" Variavel X\")\n",
        "outliers_test(x)\n",
        "print(\" Variavel Y\")\n",
        "outliers_test(y)\n"
      ],
      "metadata": {
        "colab": {
          "base_uri": "https://localhost:8080/"
        },
        "id": "jAZfnzG7INml",
        "outputId": "f5565aed-7c93-4bd1-ff3a-5e043fd09831"
      },
      "execution_count": 21,
      "outputs": [
        {
          "output_type": "stream",
          "name": "stdout",
          "text": [
            " Variavel X\n",
            " Grubbs Valor Calculado: 2.4121981912821933\n",
            " Grubbs Valor Critico: 2.019968507680656\n",
            " Observamos que o valor calculado é MAIOR que o valor critico. Confirmamos a Hipótese de que HÁ outiliers\n",
            "\n",
            " Variavel Y\n",
            " Grubbs Valor Calculado: 2.2765147221587774\n",
            " Grubbs Valor Critico: 2.019968507680656\n",
            " Observamos que o valor calculado é MAIOR que o valor critico. Confirmamos a Hipótese de que HÁ outiliers\n",
            "\n"
          ]
        }
      ]
    }
  ]
}