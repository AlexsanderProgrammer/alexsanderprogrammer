{
  "cells": [
    {
      "cell_type": "markdown",
      "metadata": {
        "id": "view-in-github",
        "colab_type": "text"
      },
      "source": [
        "<a href=\"https://colab.research.google.com/github/AlexsanderProgrammer/AlexsanderProgrammer/blob/main/prev_acoes.ipynb\" target=\"_parent\"><img src=\"https://colab.research.google.com/assets/colab-badge.svg\" alt=\"Open In Colab\"/></a>"
      ]
    },
    {
      "cell_type": "code",
      "source": [
        "!pip install yfinance"
      ],
      "metadata": {
        "colab": {
          "base_uri": "https://localhost:8080/"
        },
        "id": "gk3RUhYIJzGy",
        "outputId": "98c6c604-3810-4ab6-8cd1-80d051b7f594"
      },
      "execution_count": null,
      "outputs": [
        {
          "output_type": "stream",
          "name": "stdout",
          "text": [
            "Looking in indexes: https://pypi.org/simple, https://us-python.pkg.dev/colab-wheels/public/simple/\n",
            "Collecting yfinance\n",
            "  Downloading yfinance-0.1.70-py2.py3-none-any.whl (26 kB)\n",
            "Collecting requests>=2.26\n",
            "  Downloading requests-2.27.1-py2.py3-none-any.whl (63 kB)\n",
            "\u001b[K     |████████████████████████████████| 63 kB 1.6 MB/s \n",
            "\u001b[?25hCollecting lxml>=4.5.1\n",
            "  Downloading lxml-4.9.0-cp37-cp37m-manylinux_2_17_x86_64.manylinux2014_x86_64.manylinux_2_24_x86_64.whl (6.4 MB)\n",
            "\u001b[K     |████████████████████████████████| 6.4 MB 11.0 MB/s \n",
            "\u001b[?25hRequirement already satisfied: numpy>=1.15 in /usr/local/lib/python3.7/dist-packages (from yfinance) (1.21.6)\n",
            "Requirement already satisfied: multitasking>=0.0.7 in /usr/local/lib/python3.7/dist-packages (from yfinance) (0.0.10)\n",
            "Requirement already satisfied: pandas>=0.24.0 in /usr/local/lib/python3.7/dist-packages (from yfinance) (1.3.5)\n",
            "Requirement already satisfied: pytz>=2017.3 in /usr/local/lib/python3.7/dist-packages (from pandas>=0.24.0->yfinance) (2022.1)\n",
            "Requirement already satisfied: python-dateutil>=2.7.3 in /usr/local/lib/python3.7/dist-packages (from pandas>=0.24.0->yfinance) (2.8.2)\n",
            "Requirement already satisfied: six>=1.5 in /usr/local/lib/python3.7/dist-packages (from python-dateutil>=2.7.3->pandas>=0.24.0->yfinance) (1.15.0)\n",
            "Requirement already satisfied: charset-normalizer~=2.0.0 in /usr/local/lib/python3.7/dist-packages (from requests>=2.26->yfinance) (2.0.12)\n",
            "Requirement already satisfied: urllib3<1.27,>=1.21.1 in /usr/local/lib/python3.7/dist-packages (from requests>=2.26->yfinance) (1.24.3)\n",
            "Requirement already satisfied: idna<4,>=2.5 in /usr/local/lib/python3.7/dist-packages (from requests>=2.26->yfinance) (2.10)\n",
            "Requirement already satisfied: certifi>=2017.4.17 in /usr/local/lib/python3.7/dist-packages (from requests>=2.26->yfinance) (2022.5.18.1)\n",
            "Installing collected packages: requests, lxml, yfinance\n",
            "  Attempting uninstall: requests\n",
            "    Found existing installation: requests 2.23.0\n",
            "    Uninstalling requests-2.23.0:\n",
            "      Successfully uninstalled requests-2.23.0\n",
            "  Attempting uninstall: lxml\n",
            "    Found existing installation: lxml 4.2.6\n",
            "    Uninstalling lxml-4.2.6:\n",
            "      Successfully uninstalled lxml-4.2.6\n",
            "\u001b[31mERROR: pip's dependency resolver does not currently take into account all the packages that are installed. This behaviour is the source of the following dependency conflicts.\n",
            "google-colab 1.0.0 requires requests~=2.23.0, but you have requests 2.27.1 which is incompatible.\n",
            "datascience 0.10.6 requires folium==0.2.1, but you have folium 0.8.3 which is incompatible.\u001b[0m\n",
            "Successfully installed lxml-4.9.0 requests-2.27.1 yfinance-0.1.70\n"
          ]
        }
      ]
    },
    {
      "cell_type": "code",
      "source": [
        "from google.colab import drive\n",
        "drive.mount('/content/drive')"
      ],
      "metadata": {
        "colab": {
          "base_uri": "https://localhost:8080/"
        },
        "id": "JlLVjmslrXvo",
        "outputId": "a1ac6d60-779e-4777-a5d5-e3f23e6f2b4e"
      },
      "execution_count": null,
      "outputs": [
        {
          "output_type": "stream",
          "name": "stdout",
          "text": [
            "Mounted at /content/drive\n"
          ]
        }
      ]
    },
    {
      "cell_type": "markdown",
      "source": [
        "# Importando as Bibliotecas"
      ],
      "metadata": {
        "id": "Lt4D76mNQClP"
      }
    },
    {
      "cell_type": "code",
      "source": [
        "from fbprophet import Prophet # Biblioteca para prever o preço das ações\n",
        "\n",
        "import pandas as pd # Biblioteca usada para a manipulação dos dados\n",
        "import numpy as np # Biblioteca usada para calculos\n",
        "import matplotlib.pyplot as plt # Biblioteca usada para plotar(mostrar) os gráficos\n",
        "\n",
        "import pandas_datareader.data as web #Biblioteca usada para pegar os dados da internet\n",
        "\n",
        "from pylab import rcParams # Bblioteca para dimensionar o grafico\n",
        "rcParams['figure.figsize'] = 15,8"
      ],
      "metadata": {
        "id": "2F9U4N-LMc7b"
      },
      "execution_count": null,
      "outputs": []
    },
    {
      "cell_type": "markdown",
      "source": [
        "# Coletando os dados"
      ],
      "metadata": {
        "id": "4YrihuiZQHaz"
      }
    },
    {
      "cell_type": "code",
      "source": [
        "p = web.get_data_yahoo('PETR4.SA', period='2y')"
      ],
      "metadata": {
        "id": "uLBKEUS6NYzt",
        "outputId": "fd7deaef-f545-4a06-87f6-2b7809d18ef7",
        "colab": {
          "base_uri": "https://localhost:8080/",
          "height": 301
        }
      },
      "execution_count": null,
      "outputs": [
        {
          "output_type": "error",
          "ename": "TypeError",
          "evalue": "ignored",
          "traceback": [
            "\u001b[0;31m---------------------------------------------------------------------------\u001b[0m",
            "\u001b[0;31mTypeError\u001b[0m                                 Traceback (most recent call last)",
            "\u001b[0;32m<ipython-input-4-5f6d8667cb85>\u001b[0m in \u001b[0;36m<module>\u001b[0;34m()\u001b[0m\n\u001b[0;32m----> 1\u001b[0;31m \u001b[0mp\u001b[0m \u001b[0;34m=\u001b[0m \u001b[0mweb\u001b[0m\u001b[0;34m.\u001b[0m\u001b[0mget_data_yahoo\u001b[0m\u001b[0;34m(\u001b[0m\u001b[0;34m'PETR4.SA'\u001b[0m\u001b[0;34m,\u001b[0m \u001b[0mperiod\u001b[0m\u001b[0;34m=\u001b[0m\u001b[0;34m'2y'\u001b[0m\u001b[0;34m)\u001b[0m\u001b[0;34m\u001b[0m\u001b[0;34m\u001b[0m\u001b[0m\n\u001b[0m",
            "\u001b[0;32m/usr/local/lib/python3.7/dist-packages/pandas_datareader/data.py\u001b[0m in \u001b[0;36mget_data_yahoo\u001b[0;34m(*args, **kwargs)\u001b[0m\n\u001b[1;32m     84\u001b[0m \u001b[0;34m\u001b[0m\u001b[0m\n\u001b[1;32m     85\u001b[0m \u001b[0;32mdef\u001b[0m \u001b[0mget_data_yahoo\u001b[0m\u001b[0;34m(\u001b[0m\u001b[0;34m*\u001b[0m\u001b[0margs\u001b[0m\u001b[0;34m,\u001b[0m \u001b[0;34m**\u001b[0m\u001b[0mkwargs\u001b[0m\u001b[0;34m)\u001b[0m\u001b[0;34m:\u001b[0m\u001b[0;34m\u001b[0m\u001b[0;34m\u001b[0m\u001b[0m\n\u001b[0;32m---> 86\u001b[0;31m     \u001b[0;32mreturn\u001b[0m \u001b[0mYahooDailyReader\u001b[0m\u001b[0;34m(\u001b[0m\u001b[0;34m*\u001b[0m\u001b[0margs\u001b[0m\u001b[0;34m,\u001b[0m \u001b[0;34m**\u001b[0m\u001b[0mkwargs\u001b[0m\u001b[0;34m)\u001b[0m\u001b[0;34m.\u001b[0m\u001b[0mread\u001b[0m\u001b[0;34m(\u001b[0m\u001b[0;34m)\u001b[0m\u001b[0;34m\u001b[0m\u001b[0;34m\u001b[0m\u001b[0m\n\u001b[0m\u001b[1;32m     87\u001b[0m \u001b[0;34m\u001b[0m\u001b[0m\n\u001b[1;32m     88\u001b[0m \u001b[0;34m\u001b[0m\u001b[0m\n",
            "\u001b[0;31mTypeError\u001b[0m: __init__() got an unexpected keyword argument 'period'"
          ]
        }
      ]
    },
    {
      "cell_type": "code",
      "source": [
        "p"
      ],
      "metadata": {
        "id": "F-tR4dxkNrDN",
        "outputId": "8d13c34c-fe69-478c-8bc4-b179c95c0bb9",
        "colab": {
          "base_uri": "https://localhost:8080/",
          "height": 455
        }
      },
      "execution_count": null,
      "outputs": [
        {
          "output_type": "execute_result",
          "data": {
            "text/plain": [
              "                 Open       High        Low      Close  Adj Close     Volume\n",
              "Date                                                                        \n",
              "2020-06-02  20.750000  21.400000  20.600000  21.400000  14.267127   77235100\n",
              "2020-06-03  21.860001  21.910000  21.410000  21.469999  14.313794   86219700\n",
              "2020-06-04  21.389999  21.780001  21.040001  21.430000  14.287127  107401400\n",
              "2020-06-05  22.290001  23.030001  22.059999  22.100000  14.733810  114137700\n",
              "2020-06-08  22.549999  22.590000  22.010000  22.530001  15.020486   82444400\n",
              "...               ...        ...        ...        ...        ...        ...\n",
              "2022-05-27  32.150002  32.150002  30.570000  30.600000  30.600000  118295600\n",
              "2022-05-30  30.840000  30.870001  29.120001  29.990000  29.990000   98110100\n",
              "2022-05-31  30.410000  30.620001  29.809999  30.059999  30.059999   83598000\n",
              "2022-06-01  29.900000  30.330000  29.850000  30.020000  30.020000   46353200\n",
              "2022-06-02  29.969999  30.049999  29.549999  29.760000  29.760000   50251300\n",
              "\n",
              "[497 rows x 6 columns]"
            ],
            "text/html": [
              "\n",
              "  <div id=\"df-97821ded-e580-4d27-95c9-c1f2f962a5f6\">\n",
              "    <div class=\"colab-df-container\">\n",
              "      <div>\n",
              "<style scoped>\n",
              "    .dataframe tbody tr th:only-of-type {\n",
              "        vertical-align: middle;\n",
              "    }\n",
              "\n",
              "    .dataframe tbody tr th {\n",
              "        vertical-align: top;\n",
              "    }\n",
              "\n",
              "    .dataframe thead th {\n",
              "        text-align: right;\n",
              "    }\n",
              "</style>\n",
              "<table border=\"1\" class=\"dataframe\">\n",
              "  <thead>\n",
              "    <tr style=\"text-align: right;\">\n",
              "      <th></th>\n",
              "      <th>Open</th>\n",
              "      <th>High</th>\n",
              "      <th>Low</th>\n",
              "      <th>Close</th>\n",
              "      <th>Adj Close</th>\n",
              "      <th>Volume</th>\n",
              "    </tr>\n",
              "    <tr>\n",
              "      <th>Date</th>\n",
              "      <th></th>\n",
              "      <th></th>\n",
              "      <th></th>\n",
              "      <th></th>\n",
              "      <th></th>\n",
              "      <th></th>\n",
              "    </tr>\n",
              "  </thead>\n",
              "  <tbody>\n",
              "    <tr>\n",
              "      <th>2020-06-02</th>\n",
              "      <td>20.750000</td>\n",
              "      <td>21.400000</td>\n",
              "      <td>20.600000</td>\n",
              "      <td>21.400000</td>\n",
              "      <td>14.267127</td>\n",
              "      <td>77235100</td>\n",
              "    </tr>\n",
              "    <tr>\n",
              "      <th>2020-06-03</th>\n",
              "      <td>21.860001</td>\n",
              "      <td>21.910000</td>\n",
              "      <td>21.410000</td>\n",
              "      <td>21.469999</td>\n",
              "      <td>14.313794</td>\n",
              "      <td>86219700</td>\n",
              "    </tr>\n",
              "    <tr>\n",
              "      <th>2020-06-04</th>\n",
              "      <td>21.389999</td>\n",
              "      <td>21.780001</td>\n",
              "      <td>21.040001</td>\n",
              "      <td>21.430000</td>\n",
              "      <td>14.287127</td>\n",
              "      <td>107401400</td>\n",
              "    </tr>\n",
              "    <tr>\n",
              "      <th>2020-06-05</th>\n",
              "      <td>22.290001</td>\n",
              "      <td>23.030001</td>\n",
              "      <td>22.059999</td>\n",
              "      <td>22.100000</td>\n",
              "      <td>14.733810</td>\n",
              "      <td>114137700</td>\n",
              "    </tr>\n",
              "    <tr>\n",
              "      <th>2020-06-08</th>\n",
              "      <td>22.549999</td>\n",
              "      <td>22.590000</td>\n",
              "      <td>22.010000</td>\n",
              "      <td>22.530001</td>\n",
              "      <td>15.020486</td>\n",
              "      <td>82444400</td>\n",
              "    </tr>\n",
              "    <tr>\n",
              "      <th>...</th>\n",
              "      <td>...</td>\n",
              "      <td>...</td>\n",
              "      <td>...</td>\n",
              "      <td>...</td>\n",
              "      <td>...</td>\n",
              "      <td>...</td>\n",
              "    </tr>\n",
              "    <tr>\n",
              "      <th>2022-05-27</th>\n",
              "      <td>32.150002</td>\n",
              "      <td>32.150002</td>\n",
              "      <td>30.570000</td>\n",
              "      <td>30.600000</td>\n",
              "      <td>30.600000</td>\n",
              "      <td>118295600</td>\n",
              "    </tr>\n",
              "    <tr>\n",
              "      <th>2022-05-30</th>\n",
              "      <td>30.840000</td>\n",
              "      <td>30.870001</td>\n",
              "      <td>29.120001</td>\n",
              "      <td>29.990000</td>\n",
              "      <td>29.990000</td>\n",
              "      <td>98110100</td>\n",
              "    </tr>\n",
              "    <tr>\n",
              "      <th>2022-05-31</th>\n",
              "      <td>30.410000</td>\n",
              "      <td>30.620001</td>\n",
              "      <td>29.809999</td>\n",
              "      <td>30.059999</td>\n",
              "      <td>30.059999</td>\n",
              "      <td>83598000</td>\n",
              "    </tr>\n",
              "    <tr>\n",
              "      <th>2022-06-01</th>\n",
              "      <td>29.900000</td>\n",
              "      <td>30.330000</td>\n",
              "      <td>29.850000</td>\n",
              "      <td>30.020000</td>\n",
              "      <td>30.020000</td>\n",
              "      <td>46353200</td>\n",
              "    </tr>\n",
              "    <tr>\n",
              "      <th>2022-06-02</th>\n",
              "      <td>29.969999</td>\n",
              "      <td>30.049999</td>\n",
              "      <td>29.549999</td>\n",
              "      <td>29.760000</td>\n",
              "      <td>29.760000</td>\n",
              "      <td>50251300</td>\n",
              "    </tr>\n",
              "  </tbody>\n",
              "</table>\n",
              "<p>497 rows × 6 columns</p>\n",
              "</div>\n",
              "      <button class=\"colab-df-convert\" onclick=\"convertToInteractive('df-97821ded-e580-4d27-95c9-c1f2f962a5f6')\"\n",
              "              title=\"Convert this dataframe to an interactive table.\"\n",
              "              style=\"display:none;\">\n",
              "        \n",
              "  <svg xmlns=\"http://www.w3.org/2000/svg\" height=\"24px\"viewBox=\"0 0 24 24\"\n",
              "       width=\"24px\">\n",
              "    <path d=\"M0 0h24v24H0V0z\" fill=\"none\"/>\n",
              "    <path d=\"M18.56 5.44l.94 2.06.94-2.06 2.06-.94-2.06-.94-.94-2.06-.94 2.06-2.06.94zm-11 1L8.5 8.5l.94-2.06 2.06-.94-2.06-.94L8.5 2.5l-.94 2.06-2.06.94zm10 10l.94 2.06.94-2.06 2.06-.94-2.06-.94-.94-2.06-.94 2.06-2.06.94z\"/><path d=\"M17.41 7.96l-1.37-1.37c-.4-.4-.92-.59-1.43-.59-.52 0-1.04.2-1.43.59L10.3 9.45l-7.72 7.72c-.78.78-.78 2.05 0 2.83L4 21.41c.39.39.9.59 1.41.59.51 0 1.02-.2 1.41-.59l7.78-7.78 2.81-2.81c.8-.78.8-2.07 0-2.86zM5.41 20L4 18.59l7.72-7.72 1.47 1.35L5.41 20z\"/>\n",
              "  </svg>\n",
              "      </button>\n",
              "      \n",
              "  <style>\n",
              "    .colab-df-container {\n",
              "      display:flex;\n",
              "      flex-wrap:wrap;\n",
              "      gap: 12px;\n",
              "    }\n",
              "\n",
              "    .colab-df-convert {\n",
              "      background-color: #E8F0FE;\n",
              "      border: none;\n",
              "      border-radius: 50%;\n",
              "      cursor: pointer;\n",
              "      display: none;\n",
              "      fill: #1967D2;\n",
              "      height: 32px;\n",
              "      padding: 0 0 0 0;\n",
              "      width: 32px;\n",
              "    }\n",
              "\n",
              "    .colab-df-convert:hover {\n",
              "      background-color: #E2EBFA;\n",
              "      box-shadow: 0px 1px 2px rgba(60, 64, 67, 0.3), 0px 1px 3px 1px rgba(60, 64, 67, 0.15);\n",
              "      fill: #174EA6;\n",
              "    }\n",
              "\n",
              "    [theme=dark] .colab-df-convert {\n",
              "      background-color: #3B4455;\n",
              "      fill: #D2E3FC;\n",
              "    }\n",
              "\n",
              "    [theme=dark] .colab-df-convert:hover {\n",
              "      background-color: #434B5C;\n",
              "      box-shadow: 0px 1px 3px 1px rgba(0, 0, 0, 0.15);\n",
              "      filter: drop-shadow(0px 1px 2px rgba(0, 0, 0, 0.3));\n",
              "      fill: #FFFFFF;\n",
              "    }\n",
              "  </style>\n",
              "\n",
              "      <script>\n",
              "        const buttonEl =\n",
              "          document.querySelector('#df-97821ded-e580-4d27-95c9-c1f2f962a5f6 button.colab-df-convert');\n",
              "        buttonEl.style.display =\n",
              "          google.colab.kernel.accessAllowed ? 'block' : 'none';\n",
              "\n",
              "        async function convertToInteractive(key) {\n",
              "          const element = document.querySelector('#df-97821ded-e580-4d27-95c9-c1f2f962a5f6');\n",
              "          const dataTable =\n",
              "            await google.colab.kernel.invokeFunction('convertToInteractive',\n",
              "                                                     [key], {});\n",
              "          if (!dataTable) return;\n",
              "\n",
              "          const docLinkHtml = 'Like what you see? Visit the ' +\n",
              "            '<a target=\"_blank\" href=https://colab.research.google.com/notebooks/data_table.ipynb>data table notebook</a>'\n",
              "            + ' to learn more about interactive tables.';\n",
              "          element.innerHTML = '';\n",
              "          dataTable['output_type'] = 'display_data';\n",
              "          await google.colab.output.renderOutput(dataTable, element);\n",
              "          const docLink = document.createElement('div');\n",
              "          docLink.innerHTML = docLinkHtml;\n",
              "          element.appendChild(docLink);\n",
              "        }\n",
              "      </script>\n",
              "    </div>\n",
              "  </div>\n",
              "  "
            ]
          },
          "metadata": {},
          "execution_count": 6
        }
      ]
    },
    {
      "cell_type": "markdown",
      "source": [
        "# Pegando os dados da coluna alvo"
      ],
      "metadata": {
        "id": "778dqbWkQRG4"
      }
    },
    {
      "cell_type": "code",
      "source": [
        "c = p['Adj Close']\n",
        "c"
      ],
      "metadata": {
        "id": "FlQ3J5DcNr91",
        "colab": {
          "base_uri": "https://localhost:8080/"
        },
        "outputId": "d6385a9d-f40b-4608-ae8e-8ef59d8fb980"
      },
      "execution_count": null,
      "outputs": [
        {
          "output_type": "execute_result",
          "data": {
            "text/plain": [
              "Date\n",
              "2020-06-02    14.267127\n",
              "2020-06-03    14.313794\n",
              "2020-06-04    14.287127\n",
              "2020-06-05    14.733810\n",
              "2020-06-08    15.020486\n",
              "                ...    \n",
              "2022-05-27    30.600000\n",
              "2022-05-30    29.990000\n",
              "2022-05-31    30.059999\n",
              "2022-06-01    30.020000\n",
              "2022-06-02    29.760000\n",
              "Name: Adj Close, Length: 497, dtype: float64"
            ]
          },
          "metadata": {},
          "execution_count": 7
        }
      ]
    },
    {
      "cell_type": "code",
      "source": [
        "c.plot()\n",
        "plt.xlabel('Data', size=10)\n",
        "plt.ylabel('Preços', size=10)\n",
        "plt.show()"
      ],
      "metadata": {
        "id": "V8a1ari0Nzfp",
        "outputId": "6bc016ed-87b5-4ab1-9df3-1604447baa30",
        "colab": {
          "base_uri": "https://localhost:8080/",
          "height": 473
        }
      },
      "execution_count": null,
      "outputs": [
        {
          "output_type": "display_data",
          "data": {
            "text/plain": [
              "<Figure size 1080x576 with 1 Axes>"
            ],
            "image/png": "[encoded data removed]"
          },
          "metadata": {
            "needs_background": "light"
          }
        }
      ]
    },
    {
      "cell_type": "markdown",
      "source": [
        "# Criando um novo dataframe com a coluna alvo"
      ],
      "metadata": {
        "id": "kNxV6WFtQdrD"
      }
    },
    {
      "cell_type": "code",
      "source": [
        "type(c)"
      ],
      "metadata": {
        "id": "8K7ktHpFf3pY",
        "outputId": "bbbf13d3-cf05-451f-d980-0505efc03a47",
        "colab": {
          "base_uri": "https://localhost:8080/"
        }
      },
      "execution_count": null,
      "outputs": [
        {
          "output_type": "execute_result",
          "data": {
            "text/plain": [
              "pandas.core.series.Series"
            ]
          },
          "metadata": {},
          "execution_count": 31
        }
      ]
    },
    {
      "cell_type": "code",
      "source": [
        "d = pd.DataFrame(c)"
      ],
      "metadata": {
        "id": "XYkbT2W7N0JP"
      },
      "execution_count": null,
      "outputs": []
    },
    {
      "cell_type": "code",
      "source": [
        "d"
      ],
      "metadata": {
        "id": "Iu5M0hgkOZTD",
        "outputId": "20bf7085-3b62-42e5-98a0-7ded347ccffc",
        "colab": {
          "base_uri": "https://localhost:8080/",
          "height": 455
        }
      },
      "execution_count": null,
      "outputs": [
        {
          "output_type": "execute_result",
          "data": {
            "text/plain": [
              "            Adj Close\n",
              "Date                 \n",
              "2020-06-02  14.267127\n",
              "2020-06-03  14.313794\n",
              "2020-06-04  14.287127\n",
              "2020-06-05  14.733810\n",
              "2020-06-08  15.020486\n",
              "...               ...\n",
              "2022-05-27  30.600000\n",
              "2022-05-30  29.990000\n",
              "2022-05-31  30.059999\n",
              "2022-06-01  30.020000\n",
              "2022-06-02  29.760000\n",
              "\n",
              "[497 rows x 1 columns]"
            ],
            "text/html": [
              "\n",
              "  <div id=\"df-b3f2ec8e-695f-4ceb-a7a5-feca0b39f682\">\n",
              "    <div class=\"colab-df-container\">\n",
              "      <div>\n",
              "<style scoped>\n",
              "    .dataframe tbody tr th:only-of-type {\n",
              "        vertical-align: middle;\n",
              "    }\n",
              "\n",
              "    .dataframe tbody tr th {\n",
              "        vertical-align: top;\n",
              "    }\n",
              "\n",
              "    .dataframe thead th {\n",
              "        text-align: right;\n",
              "    }\n",
              "</style>\n",
              "<table border=\"1\" class=\"dataframe\">\n",
              "  <thead>\n",
              "    <tr style=\"text-align: right;\">\n",
              "      <th></th>\n",
              "      <th>Adj Close</th>\n",
              "    </tr>\n",
              "    <tr>\n",
              "      <th>Date</th>\n",
              "      <th></th>\n",
              "    </tr>\n",
              "  </thead>\n",
              "  <tbody>\n",
              "    <tr>\n",
              "      <th>2020-06-02</th>\n",
              "      <td>14.267127</td>\n",
              "    </tr>\n",
              "    <tr>\n",
              "      <th>2020-06-03</th>\n",
              "      <td>14.313794</td>\n",
              "    </tr>\n",
              "    <tr>\n",
              "      <th>2020-06-04</th>\n",
              "      <td>14.287127</td>\n",
              "    </tr>\n",
              "    <tr>\n",
              "      <th>2020-06-05</th>\n",
              "      <td>14.733810</td>\n",
              "    </tr>\n",
              "    <tr>\n",
              "      <th>2020-06-08</th>\n",
              "      <td>15.020486</td>\n",
              "    </tr>\n",
              "    <tr>\n",
              "      <th>...</th>\n",
              "      <td>...</td>\n",
              "    </tr>\n",
              "    <tr>\n",
              "      <th>2022-05-27</th>\n",
              "      <td>30.600000</td>\n",
              "    </tr>\n",
              "    <tr>\n",
              "      <th>2022-05-30</th>\n",
              "      <td>29.990000</td>\n",
              "    </tr>\n",
              "    <tr>\n",
              "      <th>2022-05-31</th>\n",
              "      <td>30.059999</td>\n",
              "    </tr>\n",
              "    <tr>\n",
              "      <th>2022-06-01</th>\n",
              "      <td>30.020000</td>\n",
              "    </tr>\n",
              "    <tr>\n",
              "      <th>2022-06-02</th>\n",
              "      <td>29.760000</td>\n",
              "    </tr>\n",
              "  </tbody>\n",
              "</table>\n",
              "<p>497 rows × 1 columns</p>\n",
              "</div>\n",
              "      <button class=\"colab-df-convert\" onclick=\"convertToInteractive('df-b3f2ec8e-695f-4ceb-a7a5-feca0b39f682')\"\n",
              "              title=\"Convert this dataframe to an interactive table.\"\n",
              "              style=\"display:none;\">\n",
              "        \n",
              "  <svg xmlns=\"http://www.w3.org/2000/svg\" height=\"24px\"viewBox=\"0 0 24 24\"\n",
              "       width=\"24px\">\n",
              "    <path d=\"M0 0h24v24H0V0z\" fill=\"none\"/>\n",
              "    <path d=\"M18.56 5.44l.94 2.06.94-2.06 2.06-.94-2.06-.94-.94-2.06-.94 2.06-2.06.94zm-11 1L8.5 8.5l.94-2.06 2.06-.94-2.06-.94L8.5 2.5l-.94 2.06-2.06.94zm10 10l.94 2.06.94-2.06 2.06-.94-2.06-.94-.94-2.06-.94 2.06-2.06.94z\"/><path d=\"M17.41 7.96l-1.37-1.37c-.4-.4-.92-.59-1.43-.59-.52 0-1.04.2-1.43.59L10.3 9.45l-7.72 7.72c-.78.78-.78 2.05 0 2.83L4 21.41c.39.39.9.59 1.41.59.51 0 1.02-.2 1.41-.59l7.78-7.78 2.81-2.81c.8-.78.8-2.07 0-2.86zM5.41 20L4 18.59l7.72-7.72 1.47 1.35L5.41 20z\"/>\n",
              "  </svg>\n",
              "      </button>\n",
              "      \n",
              "  <style>\n",
              "    .colab-df-container {\n",
              "      display:flex;\n",
              "      flex-wrap:wrap;\n",
              "      gap: 12px;\n",
              "    }\n",
              "\n",
              "    .colab-df-convert {\n",
              "      background-color: #E8F0FE;\n",
              "      border: none;\n",
              "      border-radius: 50%;\n",
              "      cursor: pointer;\n",
              "      display: none;\n",
              "      fill: #1967D2;\n",
              "      height: 32px;\n",
              "      padding: 0 0 0 0;\n",
              "      width: 32px;\n",
              "    }\n",
              "\n",
              "    .colab-df-convert:hover {\n",
              "      background-color: #E2EBFA;\n",
              "      box-shadow: 0px 1px 2px rgba(60, 64, 67, 0.3), 0px 1px 3px 1px rgba(60, 64, 67, 0.15);\n",
              "      fill: #174EA6;\n",
              "    }\n",
              "\n",
              "    [theme=dark] .colab-df-convert {\n",
              "      background-color: #3B4455;\n",
              "      fill: #D2E3FC;\n",
              "    }\n",
              "\n",
              "    [theme=dark] .colab-df-convert:hover {\n",
              "      background-color: #434B5C;\n",
              "      box-shadow: 0px 1px 3px 1px rgba(0, 0, 0, 0.15);\n",
              "      filter: drop-shadow(0px 1px 2px rgba(0, 0, 0, 0.3));\n",
              "      fill: #FFFFFF;\n",
              "    }\n",
              "  </style>\n",
              "\n",
              "      <script>\n",
              "        const buttonEl =\n",
              "          document.querySelector('#df-b3f2ec8e-695f-4ceb-a7a5-feca0b39f682 button.colab-df-convert');\n",
              "        buttonEl.style.display =\n",
              "          google.colab.kernel.accessAllowed ? 'block' : 'none';\n",
              "\n",
              "        async function convertToInteractive(key) {\n",
              "          const element = document.querySelector('#df-b3f2ec8e-695f-4ceb-a7a5-feca0b39f682');\n",
              "          const dataTable =\n",
              "            await google.colab.kernel.invokeFunction('convertToInteractive',\n",
              "                                                     [key], {});\n",
              "          if (!dataTable) return;\n",
              "\n",
              "          const docLinkHtml = 'Like what you see? Visit the ' +\n",
              "            '<a target=\"_blank\" href=https://colab.research.google.com/notebooks/data_table.ipynb>data table notebook</a>'\n",
              "            + ' to learn more about interactive tables.';\n",
              "          element.innerHTML = '';\n",
              "          dataTable['output_type'] = 'display_data';\n",
              "          await google.colab.output.renderOutput(dataTable, element);\n",
              "          const docLink = document.createElement('div');\n",
              "          docLink.innerHTML = docLinkHtml;\n",
              "          element.appendChild(docLink);\n",
              "        }\n",
              "      </script>\n",
              "    </div>\n",
              "  </div>\n",
              "  "
            ]
          },
          "metadata": {},
          "execution_count": 13
        }
      ]
    },
    {
      "cell_type": "markdown",
      "source": [
        "### Como temos as datas como indices precisamos resetar o indice"
      ],
      "metadata": {
        "id": "p940f8U1Qkvc"
      }
    },
    {
      "cell_type": "code",
      "source": [
        "d = d.reset_index('Date')"
      ],
      "metadata": {
        "id": "jO_eqhU8PeIt"
      },
      "execution_count": null,
      "outputs": []
    },
    {
      "cell_type": "code",
      "source": [
        "d"
      ],
      "metadata": {
        "id": "ix6J1n5LQfR0",
        "outputId": "8f0acd8b-56ea-4bcf-b14f-07457a336e8e",
        "colab": {
          "base_uri": "https://localhost:8080/",
          "height": 423
        }
      },
      "execution_count": null,
      "outputs": [
        {
          "output_type": "execute_result",
          "data": {
            "text/plain": [
              "          Date  Adj Close\n",
              "0   2020-06-02  14.267127\n",
              "1   2020-06-03  14.313794\n",
              "2   2020-06-04  14.287127\n",
              "3   2020-06-05  14.733810\n",
              "4   2020-06-08  15.020486\n",
              "..         ...        ...\n",
              "492 2022-05-27  30.600000\n",
              "493 2022-05-30  29.990000\n",
              "494 2022-05-31  30.059999\n",
              "495 2022-06-01  30.020000\n",
              "496 2022-06-02  29.760000\n",
              "\n",
              "[497 rows x 2 columns]"
            ],
            "text/html": [
              "\n",
              "  <div id=\"df-8228dcb7-4e93-4fd8-a81c-fc9e743e3407\">\n",
              "    <div class=\"colab-df-container\">\n",
              "      <div>\n",
              "<style scoped>\n",
              "    .dataframe tbody tr th:only-of-type {\n",
              "        vertical-align: middle;\n",
              "    }\n",
              "\n",
              "    .dataframe tbody tr th {\n",
              "        vertical-align: top;\n",
              "    }\n",
              "\n",
              "    .dataframe thead th {\n",
              "        text-align: right;\n",
              "    }\n",
              "</style>\n",
              "<table border=\"1\" class=\"dataframe\">\n",
              "  <thead>\n",
              "    <tr style=\"text-align: right;\">\n",
              "      <th></th>\n",
              "      <th>Date</th>\n",
              "      <th>Adj Close</th>\n",
              "    </tr>\n",
              "  </thead>\n",
              "  <tbody>\n",
              "    <tr>\n",
              "      <th>0</th>\n",
              "      <td>2020-06-02</td>\n",
              "      <td>14.267127</td>\n",
              "    </tr>\n",
              "    <tr>\n",
              "      <th>1</th>\n",
              "      <td>2020-06-03</td>\n",
              "      <td>14.313794</td>\n",
              "    </tr>\n",
              "    <tr>\n",
              "      <th>2</th>\n",
              "      <td>2020-06-04</td>\n",
              "      <td>14.287127</td>\n",
              "    </tr>\n",
              "    <tr>\n",
              "      <th>3</th>\n",
              "      <td>2020-06-05</td>\n",
              "      <td>14.733810</td>\n",
              "    </tr>\n",
              "    <tr>\n",
              "      <th>4</th>\n",
              "      <td>2020-06-08</td>\n",
              "      <td>15.020486</td>\n",
              "    </tr>\n",
              "    <tr>\n",
              "      <th>...</th>\n",
              "      <td>...</td>\n",
              "      <td>...</td>\n",
              "    </tr>\n",
              "    <tr>\n",
              "      <th>492</th>\n",
              "      <td>2022-05-27</td>\n",
              "      <td>30.600000</td>\n",
              "    </tr>\n",
              "    <tr>\n",
              "      <th>493</th>\n",
              "      <td>2022-05-30</td>\n",
              "      <td>29.990000</td>\n",
              "    </tr>\n",
              "    <tr>\n",
              "      <th>494</th>\n",
              "      <td>2022-05-31</td>\n",
              "      <td>30.059999</td>\n",
              "    </tr>\n",
              "    <tr>\n",
              "      <th>495</th>\n",
              "      <td>2022-06-01</td>\n",
              "      <td>30.020000</td>\n",
              "    </tr>\n",
              "    <tr>\n",
              "      <th>496</th>\n",
              "      <td>2022-06-02</td>\n",
              "      <td>29.760000</td>\n",
              "    </tr>\n",
              "  </tbody>\n",
              "</table>\n",
              "<p>497 rows × 2 columns</p>\n",
              "</div>\n",
              "      <button class=\"colab-df-convert\" onclick=\"convertToInteractive('df-8228dcb7-4e93-4fd8-a81c-fc9e743e3407')\"\n",
              "              title=\"Convert this dataframe to an interactive table.\"\n",
              "              style=\"display:none;\">\n",
              "        \n",
              "  <svg xmlns=\"http://www.w3.org/2000/svg\" height=\"24px\"viewBox=\"0 0 24 24\"\n",
              "       width=\"24px\">\n",
              "    <path d=\"M0 0h24v24H0V0z\" fill=\"none\"/>\n",
              "    <path d=\"M18.56 5.44l.94 2.06.94-2.06 2.06-.94-2.06-.94-.94-2.06-.94 2.06-2.06.94zm-11 1L8.5 8.5l.94-2.06 2.06-.94-2.06-.94L8.5 2.5l-.94 2.06-2.06.94zm10 10l.94 2.06.94-2.06 2.06-.94-2.06-.94-.94-2.06-.94 2.06-2.06.94z\"/><path d=\"M17.41 7.96l-1.37-1.37c-.4-.4-.92-.59-1.43-.59-.52 0-1.04.2-1.43.59L10.3 9.45l-7.72 7.72c-.78.78-.78 2.05 0 2.83L4 21.41c.39.39.9.59 1.41.59.51 0 1.02-.2 1.41-.59l7.78-7.78 2.81-2.81c.8-.78.8-2.07 0-2.86zM5.41 20L4 18.59l7.72-7.72 1.47 1.35L5.41 20z\"/>\n",
              "  </svg>\n",
              "      </button>\n",
              "      \n",
              "  <style>\n",
              "    .colab-df-container {\n",
              "      display:flex;\n",
              "      flex-wrap:wrap;\n",
              "      gap: 12px;\n",
              "    }\n",
              "\n",
              "    .colab-df-convert {\n",
              "      background-color: #E8F0FE;\n",
              "      border: none;\n",
              "      border-radius: 50%;\n",
              "      cursor: pointer;\n",
              "      display: none;\n",
              "      fill: #1967D2;\n",
              "      height: 32px;\n",
              "      padding: 0 0 0 0;\n",
              "      width: 32px;\n",
              "    }\n",
              "\n",
              "    .colab-df-convert:hover {\n",
              "      background-color: #E2EBFA;\n",
              "      box-shadow: 0px 1px 2px rgba(60, 64, 67, 0.3), 0px 1px 3px 1px rgba(60, 64, 67, 0.15);\n",
              "      fill: #174EA6;\n",
              "    }\n",
              "\n",
              "    [theme=dark] .colab-df-convert {\n",
              "      background-color: #3B4455;\n",
              "      fill: #D2E3FC;\n",
              "    }\n",
              "\n",
              "    [theme=dark] .colab-df-convert:hover {\n",
              "      background-color: #434B5C;\n",
              "      box-shadow: 0px 1px 3px 1px rgba(0, 0, 0, 0.15);\n",
              "      filter: drop-shadow(0px 1px 2px rgba(0, 0, 0, 0.3));\n",
              "      fill: #FFFFFF;\n",
              "    }\n",
              "  </style>\n",
              "\n",
              "      <script>\n",
              "        const buttonEl =\n",
              "          document.querySelector('#df-8228dcb7-4e93-4fd8-a81c-fc9e743e3407 button.colab-df-convert');\n",
              "        buttonEl.style.display =\n",
              "          google.colab.kernel.accessAllowed ? 'block' : 'none';\n",
              "\n",
              "        async function convertToInteractive(key) {\n",
              "          const element = document.querySelector('#df-8228dcb7-4e93-4fd8-a81c-fc9e743e3407');\n",
              "          const dataTable =\n",
              "            await google.colab.kernel.invokeFunction('convertToInteractive',\n",
              "                                                     [key], {});\n",
              "          if (!dataTable) return;\n",
              "\n",
              "          const docLinkHtml = 'Like what you see? Visit the ' +\n",
              "            '<a target=\"_blank\" href=https://colab.research.google.com/notebooks/data_table.ipynb>data table notebook</a>'\n",
              "            + ' to learn more about interactive tables.';\n",
              "          element.innerHTML = '';\n",
              "          dataTable['output_type'] = 'display_data';\n",
              "          await google.colab.output.renderOutput(dataTable, element);\n",
              "          const docLink = document.createElement('div');\n",
              "          docLink.innerHTML = docLinkHtml;\n",
              "          element.appendChild(docLink);\n",
              "        }\n",
              "      </script>\n",
              "    </div>\n",
              "  </div>\n",
              "  "
            ]
          },
          "metadata": {},
          "execution_count": 15
        }
      ]
    },
    {
      "cell_type": "markdown",
      "source": [
        "# Renomeando as colunas para 'ds' e 'y' que é o que a biblioteca recomenda"
      ],
      "metadata": {
        "id": "95-6XQ_zQwxJ"
      }
    },
    {
      "cell_type": "code",
      "source": [
        "d.columns = ['ds','y']"
      ],
      "metadata": {
        "id": "MuC7wcZKQqGm"
      },
      "execution_count": null,
      "outputs": []
    },
    {
      "cell_type": "code",
      "source": [
        "d"
      ],
      "metadata": {
        "id": "UVq-kBSeRaJM",
        "outputId": "98e216ea-6d9d-4382-fa19-c3a48eb0b40c",
        "colab": {
          "base_uri": "https://localhost:8080/",
          "height": 423
        }
      },
      "execution_count": null,
      "outputs": [
        {
          "output_type": "execute_result",
          "data": {
            "text/plain": [
              "            ds          y\n",
              "0   2020-06-02  14.267127\n",
              "1   2020-06-03  14.313794\n",
              "2   2020-06-04  14.287127\n",
              "3   2020-06-05  14.733810\n",
              "4   2020-06-08  15.020486\n",
              "..         ...        ...\n",
              "492 2022-05-27  30.600000\n",
              "493 2022-05-30  29.990000\n",
              "494 2022-05-31  30.059999\n",
              "495 2022-06-01  30.020000\n",
              "496 2022-06-02  29.760000\n",
              "\n",
              "[497 rows x 2 columns]"
            ],
            "text/html": [
              "\n",
              "  <div id=\"df-5854f01a-5f8e-4001-8583-8919b2061ee0\">\n",
              "    <div class=\"colab-df-container\">\n",
              "      <div>\n",
              "<style scoped>\n",
              "    .dataframe tbody tr th:only-of-type {\n",
              "        vertical-align: middle;\n",
              "    }\n",
              "\n",
              "    .dataframe tbody tr th {\n",
              "        vertical-align: top;\n",
              "    }\n",
              "\n",
              "    .dataframe thead th {\n",
              "        text-align: right;\n",
              "    }\n",
              "</style>\n",
              "<table border=\"1\" class=\"dataframe\">\n",
              "  <thead>\n",
              "    <tr style=\"text-align: right;\">\n",
              "      <th></th>\n",
              "      <th>ds</th>\n",
              "      <th>y</th>\n",
              "    </tr>\n",
              "  </thead>\n",
              "  <tbody>\n",
              "    <tr>\n",
              "      <th>0</th>\n",
              "      <td>2020-06-02</td>\n",
              "      <td>14.267127</td>\n",
              "    </tr>\n",
              "    <tr>\n",
              "      <th>1</th>\n",
              "      <td>2020-06-03</td>\n",
              "      <td>14.313794</td>\n",
              "    </tr>\n",
              "    <tr>\n",
              "      <th>2</th>\n",
              "      <td>2020-06-04</td>\n",
              "      <td>14.287127</td>\n",
              "    </tr>\n",
              "    <tr>\n",
              "      <th>3</th>\n",
              "      <td>2020-06-05</td>\n",
              "      <td>14.733810</td>\n",
              "    </tr>\n",
              "    <tr>\n",
              "      <th>4</th>\n",
              "      <td>2020-06-08</td>\n",
              "      <td>15.020486</td>\n",
              "    </tr>\n",
              "    <tr>\n",
              "      <th>...</th>\n",
              "      <td>...</td>\n",
              "      <td>...</td>\n",
              "    </tr>\n",
              "    <tr>\n",
              "      <th>492</th>\n",
              "      <td>2022-05-27</td>\n",
              "      <td>30.600000</td>\n",
              "    </tr>\n",
              "    <tr>\n",
              "      <th>493</th>\n",
              "      <td>2022-05-30</td>\n",
              "      <td>29.990000</td>\n",
              "    </tr>\n",
              "    <tr>\n",
              "      <th>494</th>\n",
              "      <td>2022-05-31</td>\n",
              "      <td>30.059999</td>\n",
              "    </tr>\n",
              "    <tr>\n",
              "      <th>495</th>\n",
              "      <td>2022-06-01</td>\n",
              "      <td>30.020000</td>\n",
              "    </tr>\n",
              "    <tr>\n",
              "      <th>496</th>\n",
              "      <td>2022-06-02</td>\n",
              "      <td>29.760000</td>\n",
              "    </tr>\n",
              "  </tbody>\n",
              "</table>\n",
              "<p>497 rows × 2 columns</p>\n",
              "</div>\n",
              "      <button class=\"colab-df-convert\" onclick=\"convertToInteractive('df-5854f01a-5f8e-4001-8583-8919b2061ee0')\"\n",
              "              title=\"Convert this dataframe to an interactive table.\"\n",
              "              style=\"display:none;\">\n",
              "        \n",
              "  <svg xmlns=\"http://www.w3.org/2000/svg\" height=\"24px\"viewBox=\"0 0 24 24\"\n",
              "       width=\"24px\">\n",
              "    <path d=\"M0 0h24v24H0V0z\" fill=\"none\"/>\n",
              "    <path d=\"M18.56 5.44l.94 2.06.94-2.06 2.06-.94-2.06-.94-.94-2.06-.94 2.06-2.06.94zm-11 1L8.5 8.5l.94-2.06 2.06-.94-2.06-.94L8.5 2.5l-.94 2.06-2.06.94zm10 10l.94 2.06.94-2.06 2.06-.94-2.06-.94-.94-2.06-.94 2.06-2.06.94z\"/><path d=\"M17.41 7.96l-1.37-1.37c-.4-.4-.92-.59-1.43-.59-.52 0-1.04.2-1.43.59L10.3 9.45l-7.72 7.72c-.78.78-.78 2.05 0 2.83L4 21.41c.39.39.9.59 1.41.59.51 0 1.02-.2 1.41-.59l7.78-7.78 2.81-2.81c.8-.78.8-2.07 0-2.86zM5.41 20L4 18.59l7.72-7.72 1.47 1.35L5.41 20z\"/>\n",
              "  </svg>\n",
              "      </button>\n",
              "      \n",
              "  <style>\n",
              "    .colab-df-container {\n",
              "      display:flex;\n",
              "      flex-wrap:wrap;\n",
              "      gap: 12px;\n",
              "    }\n",
              "\n",
              "    .colab-df-convert {\n",
              "      background-color: #E8F0FE;\n",
              "      border: none;\n",
              "      border-radius: 50%;\n",
              "      cursor: pointer;\n",
              "      display: none;\n",
              "      fill: #1967D2;\n",
              "      height: 32px;\n",
              "      padding: 0 0 0 0;\n",
              "      width: 32px;\n",
              "    }\n",
              "\n",
              "    .colab-df-convert:hover {\n",
              "      background-color: #E2EBFA;\n",
              "      box-shadow: 0px 1px 2px rgba(60, 64, 67, 0.3), 0px 1px 3px 1px rgba(60, 64, 67, 0.15);\n",
              "      fill: #174EA6;\n",
              "    }\n",
              "\n",
              "    [theme=dark] .colab-df-convert {\n",
              "      background-color: #3B4455;\n",
              "      fill: #D2E3FC;\n",
              "    }\n",
              "\n",
              "    [theme=dark] .colab-df-convert:hover {\n",
              "      background-color: #434B5C;\n",
              "      box-shadow: 0px 1px 3px 1px rgba(0, 0, 0, 0.15);\n",
              "      filter: drop-shadow(0px 1px 2px rgba(0, 0, 0, 0.3));\n",
              "      fill: #FFFFFF;\n",
              "    }\n",
              "  </style>\n",
              "\n",
              "      <script>\n",
              "        const buttonEl =\n",
              "          document.querySelector('#df-5854f01a-5f8e-4001-8583-8919b2061ee0 button.colab-df-convert');\n",
              "        buttonEl.style.display =\n",
              "          google.colab.kernel.accessAllowed ? 'block' : 'none';\n",
              "\n",
              "        async function convertToInteractive(key) {\n",
              "          const element = document.querySelector('#df-5854f01a-5f8e-4001-8583-8919b2061ee0');\n",
              "          const dataTable =\n",
              "            await google.colab.kernel.invokeFunction('convertToInteractive',\n",
              "                                                     [key], {});\n",
              "          if (!dataTable) return;\n",
              "\n",
              "          const docLinkHtml = 'Like what you see? Visit the ' +\n",
              "            '<a target=\"_blank\" href=https://colab.research.google.com/notebooks/data_table.ipynb>data table notebook</a>'\n",
              "            + ' to learn more about interactive tables.';\n",
              "          element.innerHTML = '';\n",
              "          dataTable['output_type'] = 'display_data';\n",
              "          await google.colab.output.renderOutput(dataTable, element);\n",
              "          const docLink = document.createElement('div');\n",
              "          docLink.innerHTML = docLinkHtml;\n",
              "          element.appendChild(docLink);\n",
              "        }\n",
              "      </script>\n",
              "    </div>\n",
              "  </div>\n",
              "  "
            ]
          },
          "metadata": {},
          "execution_count": 17
        }
      ]
    },
    {
      "cell_type": "markdown",
      "source": [
        "# Instanciando e treinando a biblioteca"
      ],
      "metadata": {
        "id": "a_4pdTebQ_9c"
      }
    },
    {
      "cell_type": "code",
      "source": [
        "modelo = Prophet()\n",
        "\n",
        "modelo.fit(d)"
      ],
      "metadata": {
        "id": "1WcKRZEnRbQe",
        "outputId": "ef5d2f0c-3aae-48b5-d889-7a600acf9a35",
        "colab": {
          "base_uri": "https://localhost:8080/"
        }
      },
      "execution_count": null,
      "outputs": [
        {
          "output_type": "stream",
          "name": "stderr",
          "text": [
            "INFO:fbprophet:Disabling daily seasonality. Run prophet with daily_seasonality=True to override this.\n"
          ]
        },
        {
          "output_type": "execute_result",
          "data": {
            "text/plain": [
              "<fbprophet.forecaster.Prophet at 0x7f83a2e43250>"
            ]
          },
          "metadata": {},
          "execution_count": 18
        }
      ]
    },
    {
      "cell_type": "markdown",
      "source": [
        "# Criando as datas que vamos prever"
      ],
      "metadata": {
        "id": "G7XKdn_gRIYe"
      }
    },
    {
      "cell_type": "code",
      "source": [
        "data_futuro = pd.date_range(start='2022-06-01', end='2022-12-01')"
      ],
      "metadata": {
        "id": "bwbAqUmFRu8f"
      },
      "execution_count": null,
      "outputs": []
    },
    {
      "cell_type": "code",
      "source": [
        "data_futuro"
      ],
      "metadata": {
        "id": "RUxQvAfUSfVY",
        "outputId": "4414b455-b283-4b56-d988-189c7d250fa7",
        "colab": {
          "base_uri": "https://localhost:8080/"
        }
      },
      "execution_count": null,
      "outputs": [
        {
          "output_type": "execute_result",
          "data": {
            "text/plain": [
              "DatetimeIndex(['2022-06-01', '2022-06-02', '2022-06-03', '2022-06-04',\n",
              "               '2022-06-05', '2022-06-06', '2022-06-07', '2022-06-08',\n",
              "               '2022-06-09', '2022-06-10',\n",
              "               ...\n",
              "               '2022-11-22', '2022-11-23', '2022-11-24', '2022-11-25',\n",
              "               '2022-11-26', '2022-11-27', '2022-11-28', '2022-11-29',\n",
              "               '2022-11-30', '2022-12-01'],\n",
              "              dtype='datetime64[ns]', length=184, freq='D')"
            ]
          },
          "metadata": {},
          "execution_count": 20
        }
      ]
    },
    {
      "cell_type": "markdown",
      "source": [
        "### como as datas estão no formato series precisamos tranformar para dataframe antes de continuar"
      ],
      "metadata": {
        "id": "-s9D3KIQRRuf"
      }
    },
    {
      "cell_type": "code",
      "source": [
        "df = pd.DataFrame(data_futuro)"
      ],
      "metadata": {
        "id": "1vOooqi5Sghf"
      },
      "execution_count": null,
      "outputs": []
    },
    {
      "cell_type": "code",
      "source": [
        "df.columns = ['ds'] #Renomeando a coluna alvo para ds"
      ],
      "metadata": {
        "id": "-sxNuPTRSqim"
      },
      "execution_count": null,
      "outputs": []
    },
    {
      "cell_type": "code",
      "source": [
        "df"
      ],
      "metadata": {
        "id": "5wWwpZCpSs_h",
        "outputId": "68607618-700f-4fb7-f377-626055a3137d",
        "colab": {
          "base_uri": "https://localhost:8080/",
          "height": 423
        }
      },
      "execution_count": null,
      "outputs": [
        {
          "output_type": "execute_result",
          "data": {
            "text/plain": [
              "            ds\n",
              "0   2022-06-01\n",
              "1   2022-06-02\n",
              "2   2022-06-03\n",
              "3   2022-06-04\n",
              "4   2022-06-05\n",
              "..         ...\n",
              "179 2022-11-27\n",
              "180 2022-11-28\n",
              "181 2022-11-29\n",
              "182 2022-11-30\n",
              "183 2022-12-01\n",
              "\n",
              "[184 rows x 1 columns]"
            ],
            "text/html": [
              "\n",
              "  <div id=\"df-d3da5cef-8240-46dc-b0fb-001bec3524c8\">\n",
              "    <div class=\"colab-df-container\">\n",
              "      <div>\n",
              "<style scoped>\n",
              "    .dataframe tbody tr th:only-of-type {\n",
              "        vertical-align: middle;\n",
              "    }\n",
              "\n",
              "    .dataframe tbody tr th {\n",
              "        vertical-align: top;\n",
              "    }\n",
              "\n",
              "    .dataframe thead th {\n",
              "        text-align: right;\n",
              "    }\n",
              "</style>\n",
              "<table border=\"1\" class=\"dataframe\">\n",
              "  <thead>\n",
              "    <tr style=\"text-align: right;\">\n",
              "      <th></th>\n",
              "      <th>ds</th>\n",
              "    </tr>\n",
              "  </thead>\n",
              "  <tbody>\n",
              "    <tr>\n",
              "      <th>0</th>\n",
              "      <td>2022-06-01</td>\n",
              "    </tr>\n",
              "    <tr>\n",
              "      <th>1</th>\n",
              "      <td>2022-06-02</td>\n",
              "    </tr>\n",
              "    <tr>\n",
              "      <th>2</th>\n",
              "      <td>2022-06-03</td>\n",
              "    </tr>\n",
              "    <tr>\n",
              "      <th>3</th>\n",
              "      <td>2022-06-04</td>\n",
              "    </tr>\n",
              "    <tr>\n",
              "      <th>4</th>\n",
              "      <td>2022-06-05</td>\n",
              "    </tr>\n",
              "    <tr>\n",
              "      <th>...</th>\n",
              "      <td>...</td>\n",
              "    </tr>\n",
              "    <tr>\n",
              "      <th>179</th>\n",
              "      <td>2022-11-27</td>\n",
              "    </tr>\n",
              "    <tr>\n",
              "      <th>180</th>\n",
              "      <td>2022-11-28</td>\n",
              "    </tr>\n",
              "    <tr>\n",
              "      <th>181</th>\n",
              "      <td>2022-11-29</td>\n",
              "    </tr>\n",
              "    <tr>\n",
              "      <th>182</th>\n",
              "      <td>2022-11-30</td>\n",
              "    </tr>\n",
              "    <tr>\n",
              "      <th>183</th>\n",
              "      <td>2022-12-01</td>\n",
              "    </tr>\n",
              "  </tbody>\n",
              "</table>\n",
              "<p>184 rows × 1 columns</p>\n",
              "</div>\n",
              "      <button class=\"colab-df-convert\" onclick=\"convertToInteractive('df-d3da5cef-8240-46dc-b0fb-001bec3524c8')\"\n",
              "              title=\"Convert this dataframe to an interactive table.\"\n",
              "              style=\"display:none;\">\n",
              "        \n",
              "  <svg xmlns=\"http://www.w3.org/2000/svg\" height=\"24px\"viewBox=\"0 0 24 24\"\n",
              "       width=\"24px\">\n",
              "    <path d=\"M0 0h24v24H0V0z\" fill=\"none\"/>\n",
              "    <path d=\"M18.56 5.44l.94 2.06.94-2.06 2.06-.94-2.06-.94-.94-2.06-.94 2.06-2.06.94zm-11 1L8.5 8.5l.94-2.06 2.06-.94-2.06-.94L8.5 2.5l-.94 2.06-2.06.94zm10 10l.94 2.06.94-2.06 2.06-.94-2.06-.94-.94-2.06-.94 2.06-2.06.94z\"/><path d=\"M17.41 7.96l-1.37-1.37c-.4-.4-.92-.59-1.43-.59-.52 0-1.04.2-1.43.59L10.3 9.45l-7.72 7.72c-.78.78-.78 2.05 0 2.83L4 21.41c.39.39.9.59 1.41.59.51 0 1.02-.2 1.41-.59l7.78-7.78 2.81-2.81c.8-.78.8-2.07 0-2.86zM5.41 20L4 18.59l7.72-7.72 1.47 1.35L5.41 20z\"/>\n",
              "  </svg>\n",
              "      </button>\n",
              "      \n",
              "  <style>\n",
              "    .colab-df-container {\n",
              "      display:flex;\n",
              "      flex-wrap:wrap;\n",
              "      gap: 12px;\n",
              "    }\n",
              "\n",
              "    .colab-df-convert {\n",
              "      background-color: #E8F0FE;\n",
              "      border: none;\n",
              "      border-radius: 50%;\n",
              "      cursor: pointer;\n",
              "      display: none;\n",
              "      fill: #1967D2;\n",
              "      height: 32px;\n",
              "      padding: 0 0 0 0;\n",
              "      width: 32px;\n",
              "    }\n",
              "\n",
              "    .colab-df-convert:hover {\n",
              "      background-color: #E2EBFA;\n",
              "      box-shadow: 0px 1px 2px rgba(60, 64, 67, 0.3), 0px 1px 3px 1px rgba(60, 64, 67, 0.15);\n",
              "      fill: #174EA6;\n",
              "    }\n",
              "\n",
              "    [theme=dark] .colab-df-convert {\n",
              "      background-color: #3B4455;\n",
              "      fill: #D2E3FC;\n",
              "    }\n",
              "\n",
              "    [theme=dark] .colab-df-convert:hover {\n",
              "      background-color: #434B5C;\n",
              "      box-shadow: 0px 1px 3px 1px rgba(0, 0, 0, 0.15);\n",
              "      filter: drop-shadow(0px 1px 2px rgba(0, 0, 0, 0.3));\n",
              "      fill: #FFFFFF;\n",
              "    }\n",
              "  </style>\n",
              "\n",
              "      <script>\n",
              "        const buttonEl =\n",
              "          document.querySelector('#df-d3da5cef-8240-46dc-b0fb-001bec3524c8 button.colab-df-convert');\n",
              "        buttonEl.style.display =\n",
              "          google.colab.kernel.accessAllowed ? 'block' : 'none';\n",
              "\n",
              "        async function convertToInteractive(key) {\n",
              "          const element = document.querySelector('#df-d3da5cef-8240-46dc-b0fb-001bec3524c8');\n",
              "          const dataTable =\n",
              "            await google.colab.kernel.invokeFunction('convertToInteractive',\n",
              "                                                     [key], {});\n",
              "          if (!dataTable) return;\n",
              "\n",
              "          const docLinkHtml = 'Like what you see? Visit the ' +\n",
              "            '<a target=\"_blank\" href=https://colab.research.google.com/notebooks/data_table.ipynb>data table notebook</a>'\n",
              "            + ' to learn more about interactive tables.';\n",
              "          element.innerHTML = '';\n",
              "          dataTable['output_type'] = 'display_data';\n",
              "          await google.colab.output.renderOutput(dataTable, element);\n",
              "          const docLink = document.createElement('div');\n",
              "          docLink.innerHTML = docLinkHtml;\n",
              "          element.appendChild(docLink);\n",
              "        }\n",
              "      </script>\n",
              "    </div>\n",
              "  </div>\n",
              "  "
            ]
          },
          "metadata": {},
          "execution_count": 23
        }
      ]
    },
    {
      "cell_type": "markdown",
      "source": [
        "# Prevendo"
      ],
      "metadata": {
        "id": "Hq8YpA4ARmQJ"
      }
    },
    {
      "cell_type": "code",
      "source": [
        "previsao = modelo.predict(df)"
      ],
      "metadata": {
        "id": "q8o3KqKWS1XT"
      },
      "execution_count": null,
      "outputs": []
    },
    {
      "cell_type": "code",
      "source": [
        "previsao"
      ],
      "metadata": {
        "id": "GLzUwKQeTG7K",
        "outputId": "759dfc8a-0995-4f8f-8596-e787e87b7a1c",
        "colab": {
          "base_uri": "https://localhost:8080/",
          "height": 661
        }
      },
      "execution_count": null,
      "outputs": [
        {
          "output_type": "execute_result",
          "data": {
            "text/plain": [
              "            ds      trend  yhat_lower  yhat_upper  trend_lower  trend_upper  \\\n",
              "0   2022-06-01  31.499351   30.807364   32.938217    31.499351    31.499351   \n",
              "1   2022-06-02  31.555587   30.947463   33.113088    31.555587    31.555587   \n",
              "2   2022-06-03  31.611823   30.878804   32.968233    31.611823    31.611823   \n",
              "3   2022-06-04  31.668059   31.223093   33.345781    31.668059    31.668059   \n",
              "4   2022-06-05  31.724295   31.402879   33.437765    31.724295    31.724295   \n",
              "..         ...        ...         ...         ...          ...          ...   \n",
              "179 2022-11-27  41.565595   40.429206   43.718922    40.362190    42.721167   \n",
              "180 2022-11-28  41.621831   40.368353   43.492519    40.409362    42.790185   \n",
              "181 2022-11-29  41.678067   40.554446   43.795768    40.466480    42.859159   \n",
              "182 2022-11-30  41.734303   40.819280   44.089910    40.521512    42.929012   \n",
              "183 2022-12-01  41.790539   40.930669   44.313479    40.562629    42.995646   \n",
              "\n",
              "     additive_terms  additive_terms_lower  additive_terms_upper    weekly  \\\n",
              "0          0.355834              0.355834              0.355834 -0.037223   \n",
              "1          0.374526              0.374526              0.374526 -0.038792   \n",
              "2          0.369146              0.369146              0.369146 -0.065300   \n",
              "3          0.671550              0.671550              0.671550  0.214813   \n",
              "4          0.695217              0.695217              0.695217  0.214813   \n",
              "..              ...                   ...                   ...       ...   \n",
              "179        0.530268              0.530268              0.530268  0.214813   \n",
              "180        0.333419              0.333419              0.333419 -0.145591   \n",
              "181        0.493969              0.493969              0.493969 -0.142720   \n",
              "182        0.749975              0.749975              0.749975 -0.037223   \n",
              "183        0.890565              0.890565              0.890565 -0.038792   \n",
              "\n",
              "     weekly_lower  weekly_upper    yearly  yearly_lower  yearly_upper  \\\n",
              "0       -0.037223     -0.037223  0.393057      0.393057      0.393057   \n",
              "1       -0.038792     -0.038792  0.413318      0.413318      0.413318   \n",
              "2       -0.065300     -0.065300  0.434446      0.434446      0.434446   \n",
              "3        0.214813      0.214813  0.456738      0.456738      0.456738   \n",
              "4        0.214813      0.214813  0.480404      0.480404      0.480404   \n",
              "..            ...           ...       ...           ...           ...   \n",
              "179      0.214813      0.214813  0.315456      0.315456      0.315456   \n",
              "180     -0.145591     -0.145591  0.479010      0.479010      0.479010   \n",
              "181     -0.142720     -0.142720  0.636689      0.636689      0.636689   \n",
              "182     -0.037223     -0.037223  0.787198      0.787198      0.787198   \n",
              "183     -0.038792     -0.038792  0.929357      0.929357      0.929357   \n",
              "\n",
              "     multiplicative_terms  multiplicative_terms_lower  \\\n",
              "0                     0.0                         0.0   \n",
              "1                     0.0                         0.0   \n",
              "2                     0.0                         0.0   \n",
              "3                     0.0                         0.0   \n",
              "4                     0.0                         0.0   \n",
              "..                    ...                         ...   \n",
              "179                   0.0                         0.0   \n",
              "180                   0.0                         0.0   \n",
              "181                   0.0                         0.0   \n",
              "182                   0.0                         0.0   \n",
              "183                   0.0                         0.0   \n",
              "\n",
              "     multiplicative_terms_upper       yhat  \n",
              "0                           0.0  31.855185  \n",
              "1                           0.0  31.930113  \n",
              "2                           0.0  31.980969  \n",
              "3                           0.0  32.339609  \n",
              "4                           0.0  32.419512  \n",
              "..                          ...        ...  \n",
              "179                         0.0  42.095863  \n",
              "180                         0.0  41.955250  \n",
              "181                         0.0  42.172036  \n",
              "182                         0.0  42.484278  \n",
              "183                         0.0  42.681104  \n",
              "\n",
              "[184 rows x 19 columns]"
            ],
            "text/html": [
              "\n",
              "  <div id=\"df-f732220b-2df3-447d-8479-1edefb61fb33\">\n",
              "    <div class=\"colab-df-container\">\n",
              "      <div>\n",
              "<style scoped>\n",
              "    .dataframe tbody tr th:only-of-type {\n",
              "        vertical-align: middle;\n",
              "    }\n",
              "\n",
              "    .dataframe tbody tr th {\n",
              "        vertical-align: top;\n",
              "    }\n",
              "\n",
              "    .dataframe thead th {\n",
              "        text-align: right;\n",
              "    }\n",
              "</style>\n",
              "<table border=\"1\" class=\"dataframe\">\n",
              "  <thead>\n",
              "    <tr style=\"text-align: right;\">\n",
              "      <th></th>\n",
              "      <th>ds</th>\n",
              "      <th>trend</th>\n",
              "      <th>yhat_lower</th>\n",
              "      <th>yhat_upper</th>\n",
              "      <th>trend_lower</th>\n",
              "      <th>trend_upper</th>\n",
              "      <th>additive_terms</th>\n",
              "      <th>additive_terms_lower</th>\n",
              "      <th>additive_terms_upper</th>\n",
              "      <th>weekly</th>\n",
              "      <th>weekly_lower</th>\n",
              "      <th>weekly_upper</th>\n",
              "      <th>yearly</th>\n",
              "      <th>yearly_lower</th>\n",
              "      <th>yearly_upper</th>\n",
              "      <th>multiplicative_terms</th>\n",
              "      <th>multiplicative_terms_lower</th>\n",
              "      <th>multiplicative_terms_upper</th>\n",
              "      <th>yhat</th>\n",
              "    </tr>\n",
              "  </thead>\n",
              "  <tbody>\n",
              "    <tr>\n",
              "      <th>0</th>\n",
              "      <td>2022-06-01</td>\n",
              "      <td>31.499351</td>\n",
              "      <td>30.807364</td>\n",
              "      <td>32.938217</td>\n",
              "      <td>31.499351</td>\n",
              "      <td>31.499351</td>\n",
              "      <td>0.355834</td>\n",
              "      <td>0.355834</td>\n",
              "      <td>0.355834</td>\n",
              "      <td>-0.037223</td>\n",
              "      <td>-0.037223</td>\n",
              "      <td>-0.037223</td>\n",
              "      <td>0.393057</td>\n",
              "      <td>0.393057</td>\n",
              "      <td>0.393057</td>\n",
              "      <td>0.0</td>\n",
              "      <td>0.0</td>\n",
              "      <td>0.0</td>\n",
              "      <td>31.855185</td>\n",
              "    </tr>\n",
              "    <tr>\n",
              "      <th>1</th>\n",
              "      <td>2022-06-02</td>\n",
              "      <td>31.555587</td>\n",
              "      <td>30.947463</td>\n",
              "      <td>33.113088</td>\n",
              "      <td>31.555587</td>\n",
              "      <td>31.555587</td>\n",
              "      <td>0.374526</td>\n",
              "      <td>0.374526</td>\n",
              "      <td>0.374526</td>\n",
              "      <td>-0.038792</td>\n",
              "      <td>-0.038792</td>\n",
              "      <td>-0.038792</td>\n",
              "      <td>0.413318</td>\n",
              "      <td>0.413318</td>\n",
              "      <td>0.413318</td>\n",
              "      <td>0.0</td>\n",
              "      <td>0.0</td>\n",
              "      <td>0.0</td>\n",
              "      <td>31.930113</td>\n",
              "    </tr>\n",
              "    <tr>\n",
              "      <th>2</th>\n",
              "      <td>2022-06-03</td>\n",
              "      <td>31.611823</td>\n",
              "      <td>30.878804</td>\n",
              "      <td>32.968233</td>\n",
              "      <td>31.611823</td>\n",
              "      <td>31.611823</td>\n",
              "      <td>0.369146</td>\n",
              "      <td>0.369146</td>\n",
              "      <td>0.369146</td>\n",
              "      <td>-0.065300</td>\n",
              "      <td>-0.065300</td>\n",
              "      <td>-0.065300</td>\n",
              "      <td>0.434446</td>\n",
              "      <td>0.434446</td>\n",
              "      <td>0.434446</td>\n",
              "      <td>0.0</td>\n",
              "      <td>0.0</td>\n",
              "      <td>0.0</td>\n",
              "      <td>31.980969</td>\n",
              "    </tr>\n",
              "    <tr>\n",
              "      <th>3</th>\n",
              "      <td>2022-06-04</td>\n",
              "      <td>31.668059</td>\n",
              "      <td>31.223093</td>\n",
              "      <td>33.345781</td>\n",
              "      <td>31.668059</td>\n",
              "      <td>31.668059</td>\n",
              "      <td>0.671550</td>\n",
              "      <td>0.671550</td>\n",
              "      <td>0.671550</td>\n",
              "      <td>0.214813</td>\n",
              "      <td>0.214813</td>\n",
              "      <td>0.214813</td>\n",
              "      <td>0.456738</td>\n",
              "      <td>0.456738</td>\n",
              "      <td>0.456738</td>\n",
              "      <td>0.0</td>\n",
              "      <td>0.0</td>\n",
              "      <td>0.0</td>\n",
              "      <td>32.339609</td>\n",
              "    </tr>\n",
              "    <tr>\n",
              "      <th>4</th>\n",
              "      <td>2022-06-05</td>\n",
              "      <td>31.724295</td>\n",
              "      <td>31.402879</td>\n",
              "      <td>33.437765</td>\n",
              "      <td>31.724295</td>\n",
              "      <td>31.724295</td>\n",
              "      <td>0.695217</td>\n",
              "      <td>0.695217</td>\n",
              "      <td>0.695217</td>\n",
              "      <td>0.214813</td>\n",
              "      <td>0.214813</td>\n",
              "      <td>0.214813</td>\n",
              "      <td>0.480404</td>\n",
              "      <td>0.480404</td>\n",
              "      <td>0.480404</td>\n",
              "      <td>0.0</td>\n",
              "      <td>0.0</td>\n",
              "      <td>0.0</td>\n",
              "      <td>32.419512</td>\n",
              "    </tr>\n",
              "    <tr>\n",
              "      <th>...</th>\n",
              "      <td>...</td>\n",
              "      <td>...</td>\n",
              "      <td>...</td>\n",
              "      <td>...</td>\n",
              "      <td>...</td>\n",
              "      <td>...</td>\n",
              "      <td>...</td>\n",
              "      <td>...</td>\n",
              "      <td>...</td>\n",
              "      <td>...</td>\n",
              "      <td>...</td>\n",
              "      <td>...</td>\n",
              "      <td>...</td>\n",
              "      <td>...</td>\n",
              "      <td>...</td>\n",
              "      <td>...</td>\n",
              "      <td>...</td>\n",
              "      <td>...</td>\n",
              "      <td>...</td>\n",
              "    </tr>\n",
              "    <tr>\n",
              "      <th>179</th>\n",
              "      <td>2022-11-27</td>\n",
              "      <td>41.565595</td>\n",
              "      <td>40.429206</td>\n",
              "      <td>43.718922</td>\n",
              "      <td>40.362190</td>\n",
              "      <td>42.721167</td>\n",
              "      <td>0.530268</td>\n",
              "      <td>0.530268</td>\n",
              "      <td>0.530268</td>\n",
              "      <td>0.214813</td>\n",
              "      <td>0.214813</td>\n",
              "      <td>0.214813</td>\n",
              "      <td>0.315456</td>\n",
              "      <td>0.315456</td>\n",
              "      <td>0.315456</td>\n",
              "      <td>0.0</td>\n",
              "      <td>0.0</td>\n",
              "      <td>0.0</td>\n",
              "      <td>42.095863</td>\n",
              "    </tr>\n",
              "    <tr>\n",
              "      <th>180</th>\n",
              "      <td>2022-11-28</td>\n",
              "      <td>41.621831</td>\n",
              "      <td>40.368353</td>\n",
              "      <td>43.492519</td>\n",
              "      <td>40.409362</td>\n",
              "      <td>42.790185</td>\n",
              "      <td>0.333419</td>\n",
              "      <td>0.333419</td>\n",
              "      <td>0.333419</td>\n",
              "      <td>-0.145591</td>\n",
              "      <td>-0.145591</td>\n",
              "      <td>-0.145591</td>\n",
              "      <td>0.479010</td>\n",
              "      <td>0.479010</td>\n",
              "      <td>0.479010</td>\n",
              "      <td>0.0</td>\n",
              "      <td>0.0</td>\n",
              "      <td>0.0</td>\n",
              "      <td>41.955250</td>\n",
              "    </tr>\n",
              "    <tr>\n",
              "      <th>181</th>\n",
              "      <td>2022-11-29</td>\n",
              "      <td>41.678067</td>\n",
              "      <td>40.554446</td>\n",
              "      <td>43.795768</td>\n",
              "      <td>40.466480</td>\n",
              "      <td>42.859159</td>\n",
              "      <td>0.493969</td>\n",
              "      <td>0.493969</td>\n",
              "      <td>0.493969</td>\n",
              "      <td>-0.142720</td>\n",
              "      <td>-0.142720</td>\n",
              "      <td>-0.142720</td>\n",
              "      <td>0.636689</td>\n",
              "      <td>0.636689</td>\n",
              "      <td>0.636689</td>\n",
              "      <td>0.0</td>\n",
              "      <td>0.0</td>\n",
              "      <td>0.0</td>\n",
              "      <td>42.172036</td>\n",
              "    </tr>\n",
              "    <tr>\n",
              "      <th>182</th>\n",
              "      <td>2022-11-30</td>\n",
              "      <td>41.734303</td>\n",
              "      <td>40.819280</td>\n",
              "      <td>44.089910</td>\n",
              "      <td>40.521512</td>\n",
              "      <td>42.929012</td>\n",
              "      <td>0.749975</td>\n",
              "      <td>0.749975</td>\n",
              "      <td>0.749975</td>\n",
              "      <td>-0.037223</td>\n",
              "      <td>-0.037223</td>\n",
              "      <td>-0.037223</td>\n",
              "      <td>0.787198</td>\n",
              "      <td>0.787198</td>\n",
              "      <td>0.787198</td>\n",
              "      <td>0.0</td>\n",
              "      <td>0.0</td>\n",
              "      <td>0.0</td>\n",
              "      <td>42.484278</td>\n",
              "    </tr>\n",
              "    <tr>\n",
              "      <th>183</th>\n",
              "      <td>2022-12-01</td>\n",
              "      <td>41.790539</td>\n",
              "      <td>40.930669</td>\n",
              "      <td>44.313479</td>\n",
              "      <td>40.562629</td>\n",
              "      <td>42.995646</td>\n",
              "      <td>0.890565</td>\n",
              "      <td>0.890565</td>\n",
              "      <td>0.890565</td>\n",
              "      <td>-0.038792</td>\n",
              "      <td>-0.038792</td>\n",
              "      <td>-0.038792</td>\n",
              "      <td>0.929357</td>\n",
              "      <td>0.929357</td>\n",
              "      <td>0.929357</td>\n",
              "      <td>0.0</td>\n",
              "      <td>0.0</td>\n",
              "      <td>0.0</td>\n",
              "      <td>42.681104</td>\n",
              "    </tr>\n",
              "  </tbody>\n",
              "</table>\n",
              "<p>184 rows × 19 columns</p>\n",
              "</div>\n",
              "      <button class=\"colab-df-convert\" onclick=\"convertToInteractive('df-f732220b-2df3-447d-8479-1edefb61fb33')\"\n",
              "              title=\"Convert this dataframe to an interactive table.\"\n",
              "              style=\"display:none;\">\n",
              "        \n",
              "  <svg xmlns=\"http://www.w3.org/2000/svg\" height=\"24px\"viewBox=\"0 0 24 24\"\n",
              "       width=\"24px\">\n",
              "    <path d=\"M0 0h24v24H0V0z\" fill=\"none\"/>\n",
              "    <path d=\"M18.56 5.44l.94 2.06.94-2.06 2.06-.94-2.06-.94-.94-2.06-.94 2.06-2.06.94zm-11 1L8.5 8.5l.94-2.06 2.06-.94-2.06-.94L8.5 2.5l-.94 2.06-2.06.94zm10 10l.94 2.06.94-2.06 2.06-.94-2.06-.94-.94-2.06-.94 2.06-2.06.94z\"/><path d=\"M17.41 7.96l-1.37-1.37c-.4-.4-.92-.59-1.43-.59-.52 0-1.04.2-1.43.59L10.3 9.45l-7.72 7.72c-.78.78-.78 2.05 0 2.83L4 21.41c.39.39.9.59 1.41.59.51 0 1.02-.2 1.41-.59l7.78-7.78 2.81-2.81c.8-.78.8-2.07 0-2.86zM5.41 20L4 18.59l7.72-7.72 1.47 1.35L5.41 20z\"/>\n",
              "  </svg>\n",
              "      </button>\n",
              "      \n",
              "  <style>\n",
              "    .colab-df-container {\n",
              "      display:flex;\n",
              "      flex-wrap:wrap;\n",
              "      gap: 12px;\n",
              "    }\n",
              "\n",
              "    .colab-df-convert {\n",
              "      background-color: #E8F0FE;\n",
              "      border: none;\n",
              "      border-radius: 50%;\n",
              "      cursor: pointer;\n",
              "      display: none;\n",
              "      fill: #1967D2;\n",
              "      height: 32px;\n",
              "      padding: 0 0 0 0;\n",
              "      width: 32px;\n",
              "    }\n",
              "\n",
              "    .colab-df-convert:hover {\n",
              "      background-color: #E2EBFA;\n",
              "      box-shadow: 0px 1px 2px rgba(60, 64, 67, 0.3), 0px 1px 3px 1px rgba(60, 64, 67, 0.15);\n",
              "      fill: #174EA6;\n",
              "    }\n",
              "\n",
              "    [theme=dark] .colab-df-convert {\n",
              "      background-color: #3B4455;\n",
              "      fill: #D2E3FC;\n",
              "    }\n",
              "\n",
              "    [theme=dark] .colab-df-convert:hover {\n",
              "      background-color: #434B5C;\n",
              "      box-shadow: 0px 1px 3px 1px rgba(0, 0, 0, 0.15);\n",
              "      filter: drop-shadow(0px 1px 2px rgba(0, 0, 0, 0.3));\n",
              "      fill: #FFFFFF;\n",
              "    }\n",
              "  </style>\n",
              "\n",
              "      <script>\n",
              "        const buttonEl =\n",
              "          document.querySelector('#df-f732220b-2df3-447d-8479-1edefb61fb33 button.colab-df-convert');\n",
              "        buttonEl.style.display =\n",
              "          google.colab.kernel.accessAllowed ? 'block' : 'none';\n",
              "\n",
              "        async function convertToInteractive(key) {\n",
              "          const element = document.querySelector('#df-f732220b-2df3-447d-8479-1edefb61fb33');\n",
              "          const dataTable =\n",
              "            await google.colab.kernel.invokeFunction('convertToInteractive',\n",
              "                                                     [key], {});\n",
              "          if (!dataTable) return;\n",
              "\n",
              "          const docLinkHtml = 'Like what you see? Visit the ' +\n",
              "            '<a target=\"_blank\" href=https://colab.research.google.com/notebooks/data_table.ipynb>data table notebook</a>'\n",
              "            + ' to learn more about interactive tables.';\n",
              "          element.innerHTML = '';\n",
              "          dataTable['output_type'] = 'display_data';\n",
              "          await google.colab.output.renderOutput(dataTable, element);\n",
              "          const docLink = document.createElement('div');\n",
              "          docLink.innerHTML = docLinkHtml;\n",
              "          element.appendChild(docLink);\n",
              "        }\n",
              "      </script>\n",
              "    </div>\n",
              "  </div>\n",
              "  "
            ]
          },
          "metadata": {},
          "execution_count": 25
        }
      ]
    },
    {
      "cell_type": "code",
      "source": [
        "previsao[ ['ds','yhat','yhat_lower','yhat_upper'] ]"
      ],
      "metadata": {
        "id": "DN4l8K4UTRTB",
        "outputId": "74e9de87-70a9-49c4-8edf-9e3358061b04",
        "colab": {
          "base_uri": "https://localhost:8080/",
          "height": 423
        }
      },
      "execution_count": null,
      "outputs": [
        {
          "output_type": "execute_result",
          "data": {
            "text/plain": [
              "            ds       yhat  yhat_lower  yhat_upper\n",
              "0   2022-06-01  31.855185   30.807364   32.938217\n",
              "1   2022-06-02  31.930113   30.947463   33.113088\n",
              "2   2022-06-03  31.980969   30.878804   32.968233\n",
              "3   2022-06-04  32.339609   31.223093   33.345781\n",
              "4   2022-06-05  32.419512   31.402879   33.437765\n",
              "..         ...        ...         ...         ...\n",
              "179 2022-11-27  42.095863   40.429206   43.718922\n",
              "180 2022-11-28  41.955250   40.368353   43.492519\n",
              "181 2022-11-29  42.172036   40.554446   43.795768\n",
              "182 2022-11-30  42.484278   40.819280   44.089910\n",
              "183 2022-12-01  42.681104   40.930669   44.313479\n",
              "\n",
              "[184 rows x 4 columns]"
            ],
            "text/html": [
              "\n",
              "  <div id=\"df-7dc395e0-af0b-409f-90eb-c83697e47f8f\">\n",
              "    <div class=\"colab-df-container\">\n",
              "      <div>\n",
              "<style scoped>\n",
              "    .dataframe tbody tr th:only-of-type {\n",
              "        vertical-align: middle;\n",
              "    }\n",
              "\n",
              "    .dataframe tbody tr th {\n",
              "        vertical-align: top;\n",
              "    }\n",
              "\n",
              "    .dataframe thead th {\n",
              "        text-align: right;\n",
              "    }\n",
              "</style>\n",
              "<table border=\"1\" class=\"dataframe\">\n",
              "  <thead>\n",
              "    <tr style=\"text-align: right;\">\n",
              "      <th></th>\n",
              "      <th>ds</th>\n",
              "      <th>yhat</th>\n",
              "      <th>yhat_lower</th>\n",
              "      <th>yhat_upper</th>\n",
              "    </tr>\n",
              "  </thead>\n",
              "  <tbody>\n",
              "    <tr>\n",
              "      <th>0</th>\n",
              "      <td>2022-06-01</td>\n",
              "      <td>31.855185</td>\n",
              "      <td>30.807364</td>\n",
              "      <td>32.938217</td>\n",
              "    </tr>\n",
              "    <tr>\n",
              "      <th>1</th>\n",
              "      <td>2022-06-02</td>\n",
              "      <td>31.930113</td>\n",
              "      <td>30.947463</td>\n",
              "      <td>33.113088</td>\n",
              "    </tr>\n",
              "    <tr>\n",
              "      <th>2</th>\n",
              "      <td>2022-06-03</td>\n",
              "      <td>31.980969</td>\n",
              "      <td>30.878804</td>\n",
              "      <td>32.968233</td>\n",
              "    </tr>\n",
              "    <tr>\n",
              "      <th>3</th>\n",
              "      <td>2022-06-04</td>\n",
              "      <td>32.339609</td>\n",
              "      <td>31.223093</td>\n",
              "      <td>33.345781</td>\n",
              "    </tr>\n",
              "    <tr>\n",
              "      <th>4</th>\n",
              "      <td>2022-06-05</td>\n",
              "      <td>32.419512</td>\n",
              "      <td>31.402879</td>\n",
              "      <td>33.437765</td>\n",
              "    </tr>\n",
              "    <tr>\n",
              "      <th>...</th>\n",
              "      <td>...</td>\n",
              "      <td>...</td>\n",
              "      <td>...</td>\n",
              "      <td>...</td>\n",
              "    </tr>\n",
              "    <tr>\n",
              "      <th>179</th>\n",
              "      <td>2022-11-27</td>\n",
              "      <td>42.095863</td>\n",
              "      <td>40.429206</td>\n",
              "      <td>43.718922</td>\n",
              "    </tr>\n",
              "    <tr>\n",
              "      <th>180</th>\n",
              "      <td>2022-11-28</td>\n",
              "      <td>41.955250</td>\n",
              "      <td>40.368353</td>\n",
              "      <td>43.492519</td>\n",
              "    </tr>\n",
              "    <tr>\n",
              "      <th>181</th>\n",
              "      <td>2022-11-29</td>\n",
              "      <td>42.172036</td>\n",
              "      <td>40.554446</td>\n",
              "      <td>43.795768</td>\n",
              "    </tr>\n",
              "    <tr>\n",
              "      <th>182</th>\n",
              "      <td>2022-11-30</td>\n",
              "      <td>42.484278</td>\n",
              "      <td>40.819280</td>\n",
              "      <td>44.089910</td>\n",
              "    </tr>\n",
              "    <tr>\n",
              "      <th>183</th>\n",
              "      <td>2022-12-01</td>\n",
              "      <td>42.681104</td>\n",
              "      <td>40.930669</td>\n",
              "      <td>44.313479</td>\n",
              "    </tr>\n",
              "  </tbody>\n",
              "</table>\n",
              "<p>184 rows × 4 columns</p>\n",
              "</div>\n",
              "      <button class=\"colab-df-convert\" onclick=\"convertToInteractive('df-7dc395e0-af0b-409f-90eb-c83697e47f8f')\"\n",
              "              title=\"Convert this dataframe to an interactive table.\"\n",
              "              style=\"display:none;\">\n",
              "        \n",
              "  <svg xmlns=\"http://www.w3.org/2000/svg\" height=\"24px\"viewBox=\"0 0 24 24\"\n",
              "       width=\"24px\">\n",
              "    <path d=\"M0 0h24v24H0V0z\" fill=\"none\"/>\n",
              "    <path d=\"M18.56 5.44l.94 2.06.94-2.06 2.06-.94-2.06-.94-.94-2.06-.94 2.06-2.06.94zm-11 1L8.5 8.5l.94-2.06 2.06-.94-2.06-.94L8.5 2.5l-.94 2.06-2.06.94zm10 10l.94 2.06.94-2.06 2.06-.94-2.06-.94-.94-2.06-.94 2.06-2.06.94z\"/><path d=\"M17.41 7.96l-1.37-1.37c-.4-.4-.92-.59-1.43-.59-.52 0-1.04.2-1.43.59L10.3 9.45l-7.72 7.72c-.78.78-.78 2.05 0 2.83L4 21.41c.39.39.9.59 1.41.59.51 0 1.02-.2 1.41-.59l7.78-7.78 2.81-2.81c.8-.78.8-2.07 0-2.86zM5.41 20L4 18.59l7.72-7.72 1.47 1.35L5.41 20z\"/>\n",
              "  </svg>\n",
              "      </button>\n",
              "      \n",
              "  <style>\n",
              "    .colab-df-container {\n",
              "      display:flex;\n",
              "      flex-wrap:wrap;\n",
              "      gap: 12px;\n",
              "    }\n",
              "\n",
              "    .colab-df-convert {\n",
              "      background-color: #E8F0FE;\n",
              "      border: none;\n",
              "      border-radius: 50%;\n",
              "      cursor: pointer;\n",
              "      display: none;\n",
              "      fill: #1967D2;\n",
              "      height: 32px;\n",
              "      padding: 0 0 0 0;\n",
              "      width: 32px;\n",
              "    }\n",
              "\n",
              "    .colab-df-convert:hover {\n",
              "      background-color: #E2EBFA;\n",
              "      box-shadow: 0px 1px 2px rgba(60, 64, 67, 0.3), 0px 1px 3px 1px rgba(60, 64, 67, 0.15);\n",
              "      fill: #174EA6;\n",
              "    }\n",
              "\n",
              "    [theme=dark] .colab-df-convert {\n",
              "      background-color: #3B4455;\n",
              "      fill: #D2E3FC;\n",
              "    }\n",
              "\n",
              "    [theme=dark] .colab-df-convert:hover {\n",
              "      background-color: #434B5C;\n",
              "      box-shadow: 0px 1px 3px 1px rgba(0, 0, 0, 0.15);\n",
              "      filter: drop-shadow(0px 1px 2px rgba(0, 0, 0, 0.3));\n",
              "      fill: #FFFFFF;\n",
              "    }\n",
              "  </style>\n",
              "\n",
              "      <script>\n",
              "        const buttonEl =\n",
              "          document.querySelector('#df-7dc395e0-af0b-409f-90eb-c83697e47f8f button.colab-df-convert');\n",
              "        buttonEl.style.display =\n",
              "          google.colab.kernel.accessAllowed ? 'block' : 'none';\n",
              "\n",
              "        async function convertToInteractive(key) {\n",
              "          const element = document.querySelector('#df-7dc395e0-af0b-409f-90eb-c83697e47f8f');\n",
              "          const dataTable =\n",
              "            await google.colab.kernel.invokeFunction('convertToInteractive',\n",
              "                                                     [key], {});\n",
              "          if (!dataTable) return;\n",
              "\n",
              "          const docLinkHtml = 'Like what you see? Visit the ' +\n",
              "            '<a target=\"_blank\" href=https://colab.research.google.com/notebooks/data_table.ipynb>data table notebook</a>'\n",
              "            + ' to learn more about interactive tables.';\n",
              "          element.innerHTML = '';\n",
              "          dataTable['output_type'] = 'display_data';\n",
              "          await google.colab.output.renderOutput(dataTable, element);\n",
              "          const docLink = document.createElement('div');\n",
              "          docLink.innerHTML = docLinkHtml;\n",
              "          element.appendChild(docLink);\n",
              "        }\n",
              "      </script>\n",
              "    </div>\n",
              "  </div>\n",
              "  "
            ]
          },
          "metadata": {},
          "execution_count": 26
        }
      ]
    },
    {
      "cell_type": "code",
      "source": [
        "previsao.describe()"
      ],
      "metadata": {
        "id": "XYIPyFWtq5L-",
        "outputId": "f48de700-8ebd-413e-cebd-1ff8a48bfafc",
        "colab": {
          "base_uri": "https://localhost:8080/",
          "height": 364
        }
      },
      "execution_count": null,
      "outputs": [
        {
          "output_type": "execute_result",
          "data": {
            "text/plain": [
              "            trend  yhat_lower  yhat_upper  trend_lower  trend_upper  \\\n",
              "count  184.000000  184.000000  184.000000   184.000000   184.000000   \n",
              "mean    36.878728   35.343328   37.768525    36.440185    37.371607   \n",
              "std      3.106301    2.323883    2.639854     2.753581     3.485673   \n",
              "min     31.542179   30.994962   33.020793    31.542179    31.542179   \n",
              "25%     34.210453   33.328708   35.463460    34.099555    34.348570   \n",
              "50%     36.878728   35.479386   37.839843    36.527762    37.315413   \n",
              "75%     39.547002   37.115613   39.851614    38.819886    40.371186   \n",
              "max     42.215277   41.687314   44.880462    41.046394    43.441800   \n",
              "\n",
              "       additive_terms  additive_terms_lower  additive_terms_upper      weekly  \\\n",
              "count      184.000000            184.000000            184.000000  184.000000   \n",
              "mean        -0.339196             -0.339196             -0.339196    0.000948   \n",
              "std          0.921909              0.921909              0.921909    0.068222   \n",
              "min         -2.181269             -2.181269             -2.181269   -0.077497   \n",
              "25%         -1.147899             -1.147899             -1.147899   -0.077497   \n",
              "50%          0.022972              0.022972              0.022972   -0.029910   \n",
              "75%          0.401940              0.401940              0.401940    0.074740   \n",
              "max          1.051607              1.051607              1.051607    0.099669   \n",
              "\n",
              "       weekly_lower  weekly_upper      yearly  yearly_lower  yearly_upper  \\\n",
              "count    184.000000    184.000000  184.000000    184.000000    184.000000   \n",
              "mean       0.000948      0.000948   -0.340144     -0.340144     -0.340144   \n",
              "std        0.068222      0.068222    0.918272      0.918272      0.918272   \n",
              "min       -0.077497     -0.077497   -2.103773     -2.103773     -2.103773   \n",
              "25%       -0.077497     -0.077497   -1.168126     -1.168126     -1.168126   \n",
              "50%       -0.029910     -0.029910    0.049927      0.049927      0.049927   \n",
              "75%        0.074740      0.074740    0.361153      0.361153      0.361153   \n",
              "max        0.099669      0.099669    0.951938      0.951938      0.951938   \n",
              "\n",
              "       multiplicative_terms  multiplicative_terms_lower  \\\n",
              "count                 184.0                       184.0   \n",
              "mean                    0.0                         0.0   \n",
              "std                     0.0                         0.0   \n",
              "min                     0.0                         0.0   \n",
              "25%                     0.0                         0.0   \n",
              "50%                     0.0                         0.0   \n",
              "75%                     0.0                         0.0   \n",
              "max                     0.0                         0.0   \n",
              "\n",
              "       multiplicative_terms_upper        yhat  \n",
              "count                       184.0  184.000000  \n",
              "mean                          0.0   36.539532  \n",
              "std                           0.0    2.466467  \n",
              "min                           0.0   32.037106  \n",
              "25%                           0.0   34.437585  \n",
              "50%                           0.0   36.624933  \n",
              "75%                           0.0   38.480118  \n",
              "max                           0.0   43.266884  "
            ],
            "text/html": [
              "\n",
              "  <div id=\"df-cf287e98-b8ca-4ebc-944f-246369950665\">\n",
              "    <div class=\"colab-df-container\">\n",
              "      <div>\n",
              "<style scoped>\n",
              "    .dataframe tbody tr th:only-of-type {\n",
              "        vertical-align: middle;\n",
              "    }\n",
              "\n",
              "    .dataframe tbody tr th {\n",
              "        vertical-align: top;\n",
              "    }\n",
              "\n",
              "    .dataframe thead th {\n",
              "        text-align: right;\n",
              "    }\n",
              "</style>\n",
              "<table border=\"1\" class=\"dataframe\">\n",
              "  <thead>\n",
              "    <tr style=\"text-align: right;\">\n",
              "      <th></th>\n",
              "      <th>trend</th>\n",
              "      <th>yhat_lower</th>\n",
              "      <th>yhat_upper</th>\n",
              "      <th>trend_lower</th>\n",
              "      <th>trend_upper</th>\n",
              "      <th>additive_terms</th>\n",
              "      <th>additive_terms_lower</th>\n",
              "      <th>additive_terms_upper</th>\n",
              "      <th>weekly</th>\n",
              "      <th>weekly_lower</th>\n",
              "      <th>weekly_upper</th>\n",
              "      <th>yearly</th>\n",
              "      <th>yearly_lower</th>\n",
              "      <th>yearly_upper</th>\n",
              "      <th>multiplicative_terms</th>\n",
              "      <th>multiplicative_terms_lower</th>\n",
              "      <th>multiplicative_terms_upper</th>\n",
              "      <th>yhat</th>\n",
              "    </tr>\n",
              "  </thead>\n",
              "  <tbody>\n",
              "    <tr>\n",
              "      <th>count</th>\n",
              "      <td>184.000000</td>\n",
              "      <td>184.000000</td>\n",
              "      <td>184.000000</td>\n",
              "      <td>184.000000</td>\n",
              "      <td>184.000000</td>\n",
              "      <td>184.000000</td>\n",
              "      <td>184.000000</td>\n",
              "      <td>184.000000</td>\n",
              "      <td>184.000000</td>\n",
              "      <td>184.000000</td>\n",
              "      <td>184.000000</td>\n",
              "      <td>184.000000</td>\n",
              "      <td>184.000000</td>\n",
              "      <td>184.000000</td>\n",
              "      <td>184.0</td>\n",
              "      <td>184.0</td>\n",
              "      <td>184.0</td>\n",
              "      <td>184.000000</td>\n",
              "    </tr>\n",
              "    <tr>\n",
              "      <th>mean</th>\n",
              "      <td>36.878728</td>\n",
              "      <td>35.343328</td>\n",
              "      <td>37.768525</td>\n",
              "      <td>36.440185</td>\n",
              "      <td>37.371607</td>\n",
              "      <td>-0.339196</td>\n",
              "      <td>-0.339196</td>\n",
              "      <td>-0.339196</td>\n",
              "      <td>0.000948</td>\n",
              "      <td>0.000948</td>\n",
              "      <td>0.000948</td>\n",
              "      <td>-0.340144</td>\n",
              "      <td>-0.340144</td>\n",
              "      <td>-0.340144</td>\n",
              "      <td>0.0</td>\n",
              "      <td>0.0</td>\n",
              "      <td>0.0</td>\n",
              "      <td>36.539532</td>\n",
              "    </tr>\n",
              "    <tr>\n",
              "      <th>std</th>\n",
              "      <td>3.106301</td>\n",
              "      <td>2.323883</td>\n",
              "      <td>2.639854</td>\n",
              "      <td>2.753581</td>\n",
              "      <td>3.485673</td>\n",
              "      <td>0.921909</td>\n",
              "      <td>0.921909</td>\n",
              "      <td>0.921909</td>\n",
              "      <td>0.068222</td>\n",
              "      <td>0.068222</td>\n",
              "      <td>0.068222</td>\n",
              "      <td>0.918272</td>\n",
              "      <td>0.918272</td>\n",
              "      <td>0.918272</td>\n",
              "      <td>0.0</td>\n",
              "      <td>0.0</td>\n",
              "      <td>0.0</td>\n",
              "      <td>2.466467</td>\n",
              "    </tr>\n",
              "    <tr>\n",
              "      <th>min</th>\n",
              "      <td>31.542179</td>\n",
              "      <td>30.994962</td>\n",
              "      <td>33.020793</td>\n",
              "      <td>31.542179</td>\n",
              "      <td>31.542179</td>\n",
              "      <td>-2.181269</td>\n",
              "      <td>-2.181269</td>\n",
              "      <td>-2.181269</td>\n",
              "      <td>-0.077497</td>\n",
              "      <td>-0.077497</td>\n",
              "      <td>-0.077497</td>\n",
              "      <td>-2.103773</td>\n",
              "      <td>-2.103773</td>\n",
              "      <td>-2.103773</td>\n",
              "      <td>0.0</td>\n",
              "      <td>0.0</td>\n",
              "      <td>0.0</td>\n",
              "      <td>32.037106</td>\n",
              "    </tr>\n",
              "    <tr>\n",
              "      <th>25%</th>\n",
              "      <td>34.210453</td>\n",
              "      <td>33.328708</td>\n",
              "      <td>35.463460</td>\n",
              "      <td>34.099555</td>\n",
              "      <td>34.348570</td>\n",
              "      <td>-1.147899</td>\n",
              "      <td>-1.147899</td>\n",
              "      <td>-1.147899</td>\n",
              "      <td>-0.077497</td>\n",
              "      <td>-0.077497</td>\n",
              "      <td>-0.077497</td>\n",
              "      <td>-1.168126</td>\n",
              "      <td>-1.168126</td>\n",
              "      <td>-1.168126</td>\n",
              "      <td>0.0</td>\n",
              "      <td>0.0</td>\n",
              "      <td>0.0</td>\n",
              "      <td>34.437585</td>\n",
              "    </tr>\n",
              "    <tr>\n",
              "      <th>50%</th>\n",
              "      <td>36.878728</td>\n",
              "      <td>35.479386</td>\n",
              "      <td>37.839843</td>\n",
              "      <td>36.527762</td>\n",
              "      <td>37.315413</td>\n",
              "      <td>0.022972</td>\n",
              "      <td>0.022972</td>\n",
              "      <td>0.022972</td>\n",
              "      <td>-0.029910</td>\n",
              "      <td>-0.029910</td>\n",
              "      <td>-0.029910</td>\n",
              "      <td>0.049927</td>\n",
              "      <td>0.049927</td>\n",
              "      <td>0.049927</td>\n",
              "      <td>0.0</td>\n",
              "      <td>0.0</td>\n",
              "      <td>0.0</td>\n",
              "      <td>36.624933</td>\n",
              "    </tr>\n",
              "    <tr>\n",
              "      <th>75%</th>\n",
              "      <td>39.547002</td>\n",
              "      <td>37.115613</td>\n",
              "      <td>39.851614</td>\n",
              "      <td>38.819886</td>\n",
              "      <td>40.371186</td>\n",
              "      <td>0.401940</td>\n",
              "      <td>0.401940</td>\n",
              "      <td>0.401940</td>\n",
              "      <td>0.074740</td>\n",
              "      <td>0.074740</td>\n",
              "      <td>0.074740</td>\n",
              "      <td>0.361153</td>\n",
              "      <td>0.361153</td>\n",
              "      <td>0.361153</td>\n",
              "      <td>0.0</td>\n",
              "      <td>0.0</td>\n",
              "      <td>0.0</td>\n",
              "      <td>38.480118</td>\n",
              "    </tr>\n",
              "    <tr>\n",
              "      <th>max</th>\n",
              "      <td>42.215277</td>\n",
              "      <td>41.687314</td>\n",
              "      <td>44.880462</td>\n",
              "      <td>41.046394</td>\n",
              "      <td>43.441800</td>\n",
              "      <td>1.051607</td>\n",
              "      <td>1.051607</td>\n",
              "      <td>1.051607</td>\n",
              "      <td>0.099669</td>\n",
              "      <td>0.099669</td>\n",
              "      <td>0.099669</td>\n",
              "      <td>0.951938</td>\n",
              "      <td>0.951938</td>\n",
              "      <td>0.951938</td>\n",
              "      <td>0.0</td>\n",
              "      <td>0.0</td>\n",
              "      <td>0.0</td>\n",
              "      <td>43.266884</td>\n",
              "    </tr>\n",
              "  </tbody>\n",
              "</table>\n",
              "</div>\n",
              "      <button class=\"colab-df-convert\" onclick=\"convertToInteractive('df-cf287e98-b8ca-4ebc-944f-246369950665')\"\n",
              "              title=\"Convert this dataframe to an interactive table.\"\n",
              "              style=\"display:none;\">\n",
              "        \n",
              "  <svg xmlns=\"http://www.w3.org/2000/svg\" height=\"24px\"viewBox=\"0 0 24 24\"\n",
              "       width=\"24px\">\n",
              "    <path d=\"M0 0h24v24H0V0z\" fill=\"none\"/>\n",
              "    <path d=\"M18.56 5.44l.94 2.06.94-2.06 2.06-.94-2.06-.94-.94-2.06-.94 2.06-2.06.94zm-11 1L8.5 8.5l.94-2.06 2.06-.94-2.06-.94L8.5 2.5l-.94 2.06-2.06.94zm10 10l.94 2.06.94-2.06 2.06-.94-2.06-.94-.94-2.06-.94 2.06-2.06.94z\"/><path d=\"M17.41 7.96l-1.37-1.37c-.4-.4-.92-.59-1.43-.59-.52 0-1.04.2-1.43.59L10.3 9.45l-7.72 7.72c-.78.78-.78 2.05 0 2.83L4 21.41c.39.39.9.59 1.41.59.51 0 1.02-.2 1.41-.59l7.78-7.78 2.81-2.81c.8-.78.8-2.07 0-2.86zM5.41 20L4 18.59l7.72-7.72 1.47 1.35L5.41 20z\"/>\n",
              "  </svg>\n",
              "      </button>\n",
              "      \n",
              "  <style>\n",
              "    .colab-df-container {\n",
              "      display:flex;\n",
              "      flex-wrap:wrap;\n",
              "      gap: 12px;\n",
              "    }\n",
              "\n",
              "    .colab-df-convert {\n",
              "      background-color: #E8F0FE;\n",
              "      border: none;\n",
              "      border-radius: 50%;\n",
              "      cursor: pointer;\n",
              "      display: none;\n",
              "      fill: #1967D2;\n",
              "      height: 32px;\n",
              "      padding: 0 0 0 0;\n",
              "      width: 32px;\n",
              "    }\n",
              "\n",
              "    .colab-df-convert:hover {\n",
              "      background-color: #E2EBFA;\n",
              "      box-shadow: 0px 1px 2px rgba(60, 64, 67, 0.3), 0px 1px 3px 1px rgba(60, 64, 67, 0.15);\n",
              "      fill: #174EA6;\n",
              "    }\n",
              "\n",
              "    [theme=dark] .colab-df-convert {\n",
              "      background-color: #3B4455;\n",
              "      fill: #D2E3FC;\n",
              "    }\n",
              "\n",
              "    [theme=dark] .colab-df-convert:hover {\n",
              "      background-color: #434B5C;\n",
              "      box-shadow: 0px 1px 3px 1px rgba(0, 0, 0, 0.15);\n",
              "      filter: drop-shadow(0px 1px 2px rgba(0, 0, 0, 0.3));\n",
              "      fill: #FFFFFF;\n",
              "    }\n",
              "  </style>\n",
              "\n",
              "      <script>\n",
              "        const buttonEl =\n",
              "          document.querySelector('#df-cf287e98-b8ca-4ebc-944f-246369950665 button.colab-df-convert');\n",
              "        buttonEl.style.display =\n",
              "          google.colab.kernel.accessAllowed ? 'block' : 'none';\n",
              "\n",
              "        async function convertToInteractive(key) {\n",
              "          const element = document.querySelector('#df-cf287e98-b8ca-4ebc-944f-246369950665');\n",
              "          const dataTable =\n",
              "            await google.colab.kernel.invokeFunction('convertToInteractive',\n",
              "                                                     [key], {});\n",
              "          if (!dataTable) return;\n",
              "\n",
              "          const docLinkHtml = 'Like what you see? Visit the ' +\n",
              "            '<a target=\"_blank\" href=https://colab.research.google.com/notebooks/data_table.ipynb>data table notebook</a>'\n",
              "            + ' to learn more about interactive tables.';\n",
              "          element.innerHTML = '';\n",
              "          dataTable['output_type'] = 'display_data';\n",
              "          await google.colab.output.renderOutput(dataTable, element);\n",
              "          const docLink = document.createElement('div');\n",
              "          docLink.innerHTML = docLinkHtml;\n",
              "          element.appendChild(docLink);\n",
              "        }\n",
              "      </script>\n",
              "    </div>\n",
              "  </div>\n",
              "  "
            ]
          },
          "metadata": {},
          "execution_count": 27
        }
      ]
    },
    {
      "cell_type": "markdown",
      "source": [
        "Plotando no grafico"
      ],
      "metadata": {
        "id": "JI79xAmZRwQP"
      }
    },
    {
      "cell_type": "code",
      "source": [
        "modelo.plot(previsao)\n",
        "plt.show()"
      ],
      "metadata": {
        "id": "xjsGidycT5ld",
        "outputId": "b53f6c8f-2e31-4b05-bdcd-83cbf98ec90f",
        "colab": {
          "base_uri": "https://localhost:8080/",
          "height": 441
        }
      },
      "execution_count": null,
      "outputs": [
        {
          "output_type": "display_data",
          "data": {
            "text/plain": [
              "<Figure size 720x432 with 1 Axes>"
            ],
            "image/png": "[encoded data removed]"
          },
          "metadata": {}
        }
      ]
    },
    {
      "cell_type": "markdown",
      "source": [
        "# Plotando os componentes da previsão"
      ],
      "metadata": {
        "id": "bMNMcWafR4s4"
      }
    },
    {
      "cell_type": "code",
      "source": [
        "modelo.plot_components(previsao)\n",
        "plt.show()"
      ],
      "metadata": {
        "id": "yXuY2Y-9T_BI",
        "outputId": "541deed9-a71c-4118-c8a7-ed276f3b563c",
        "colab": {
          "base_uri": "https://localhost:8080/",
          "height": 657
        }
      },
      "execution_count": null,
      "outputs": [
        {
          "output_type": "display_data",
          "data": {
            "text/plain": [
              "<Figure size 648x648 with 3 Axes>"
            ],
            "image/png": "[encoded data removed]"
          },
          "metadata": {}
        }
      ]
    },
    {
      "cell_type": "markdown",
      "source": [
        "# Fazendo o plot dinâmico com a biblioteca Plotly"
      ],
      "metadata": {
        "id": "d-z-igDvR-MZ"
      }
    },
    {
      "cell_type": "code",
      "source": [
        "from fbprophet.plot import plot_plotly, plot_components_plotly"
      ],
      "metadata": {
        "id": "dfzw1yvOUVRL"
      },
      "execution_count": null,
      "outputs": []
    },
    {
      "cell_type": "code",
      "source": [
        "plot_plotly(modelo,previsao)"
      ],
      "metadata": {
        "id": "Gk1k-CaQU2Wx",
        "outputId": "2f8a584c-f230-48fe-e418-4d11f7b74947",
        "colab": {
          "base_uri": "https://localhost:8080/",
          "height": 260
        }
      },
      "execution_count": null,
      "outputs": [
        {
          "output_type": "error",
          "ename": "NameError",
          "evalue": "ignored",
          "traceback": [
            "\u001b[0;31m---------------------------------------------------------------------------\u001b[0m",
            "\u001b[0;31mNameError\u001b[0m                                 Traceback (most recent call last)",
            "\u001b[0;32m<ipython-input-1-af166614eb65>\u001b[0m in \u001b[0;36m<module>\u001b[0;34m()\u001b[0m\n\u001b[0;32m----> 1\u001b[0;31m \u001b[0mplot_plotly\u001b[0m\u001b[0;34m(\u001b[0m\u001b[0mmodelo\u001b[0m\u001b[0;34m,\u001b[0m\u001b[0mprevisao\u001b[0m\u001b[0;34m)\u001b[0m\u001b[0;34m\u001b[0m\u001b[0;34m\u001b[0m\u001b[0m\n\u001b[0m",
            "\u001b[0;31mNameError\u001b[0m: name 'plot_plotly' is not defined"
          ]
        }
      ]
    },
    {
      "cell_type": "markdown",
      "source": [
        "# Agora vamos separar os dados de treino e teste"
      ],
      "metadata": {
        "id": "OMGRmy-oSMdW"
      }
    },
    {
      "cell_type": "code",
      "source": [
        "from sklearn.model_selection import train_test_split\n",
        "from sklearn.metrics import mean_squared_error"
      ],
      "metadata": {
        "id": "b2VsgAfLVByQ"
      },
      "execution_count": null,
      "outputs": []
    },
    {
      "cell_type": "code",
      "source": [
        "d_train,d_test = train_test_split(d,test_size=0.3,shuffle=False)"
      ],
      "metadata": {
        "id": "T7TiuKdnKZy9"
      },
      "execution_count": null,
      "outputs": []
    },
    {
      "cell_type": "code",
      "source": [
        "modelo2 = Prophet() # Instanciando\n",
        "\n",
        "modelo2.fit(d_train) # Treinando"
      ],
      "metadata": {
        "colab": {
          "base_uri": "https://localhost:8080/"
        },
        "id": "kbvoXLC4K0FV",
        "outputId": "95facd14-5845-49a0-c925-eabefa3235ba"
      },
      "execution_count": null,
      "outputs": [
        {
          "output_type": "stream",
          "name": "stderr",
          "text": [
            "INFO:fbprophet:Disabling yearly seasonality. Run prophet with yearly_seasonality=True to override this.\n",
            "INFO:fbprophet:Disabling daily seasonality. Run prophet with daily_seasonality=True to override this.\n"
          ]
        },
        {
          "output_type": "execute_result",
          "data": {
            "text/plain": [
              "<fbprophet.forecaster.Prophet at 0x7f60433d6690>"
            ]
          },
          "metadata": {},
          "execution_count": 31
        }
      ]
    },
    {
      "cell_type": "code",
      "source": [
        "prev2 = modelo2.predict(pd.DataFrame(d_test['ds'])) # Prevendo"
      ],
      "metadata": {
        "id": "ctCJtmcsLEO0"
      },
      "execution_count": null,
      "outputs": []
    },
    {
      "cell_type": "markdown",
      "source": [
        "# Medindo o erro"
      ],
      "metadata": {
        "id": "W-Kbxc84SgAa"
      }
    },
    {
      "cell_type": "code",
      "source": [
        "y_prev = prev2['yhat'].values\n",
        "y_true = d_test['y'].values"
      ],
      "metadata": {
        "id": "vd68-hrRL_AP"
      },
      "execution_count": null,
      "outputs": []
    },
    {
      "cell_type": "code",
      "source": [
        "mean_squared_error(y_true,y_prev)"
      ],
      "metadata": {
        "colab": {
          "base_uri": "https://localhost:8080/"
        },
        "id": "PsyHeeTPMeXk",
        "outputId": "7f600234-f37e-40c0-a23e-b34d673275eb"
      },
      "execution_count": null,
      "outputs": [
        {
          "output_type": "execute_result",
          "data": {
            "text/plain": [
              "17.162921277880134"
            ]
          },
          "metadata": {},
          "execution_count": 37
        }
      ]
    },
    {
      "cell_type": "code",
      "source": [
        "plt.plot(y_true, label='Verdadeiro')\n",
        "plt.plot(y_prev, label='Previsão')\n",
        "plt.legend()"
      ],
      "metadata": {
        "colab": {
          "base_uri": "https://localhost:8080/",
          "height": 610
        },
        "id": "pFe7nvxINXtW",
        "outputId": "8cfd0eb1-f4b7-4bce-d478-dadd46f0efc0"
      },
      "execution_count": null,
      "outputs": [
        {
          "output_type": "execute_result",
          "data": {
            "text/plain": [
              "<matplotlib.legend.Legend at 0x7f604115a9d0>"
            ]
          },
          "metadata": {},
          "execution_count": 38
        },
        {
          "output_type": "display_data",
          "data": {
            "text/plain": [
              "<Figure size 1440x720 with 1 Axes>"
            ],
            "image/png": "[encoded data removed]"
          },
          "metadata": {
            "needs_background": "light"
          }
        }
      ]
    },
    {
      "cell_type": "code",
      "source": [
        "modelo2.plot(prev2)\n",
        "plt.show()"
      ],
      "metadata": {
        "colab": {
          "base_uri": "https://localhost:8080/",
          "height": 441
        },
        "id": "V3H4T2SGOD8X",
        "outputId": "018d512d-b5e1-426d-e1bf-031e142f4a5b"
      },
      "execution_count": null,
      "outputs": [
        {
          "output_type": "display_data",
          "data": {
            "text/plain": [
              "<Figure size 720x432 with 1 Axes>"
            ],
            "image/png": "[encoded data removed]"
          },
          "metadata": {}
        }
      ]
    },
    {
      "cell_type": "markdown",
      "source": [
        "# FIM"
      ],
      "metadata": {
        "id": "hCbeYcGdSlWQ"
      }
    }
  ],
  "metadata": {
    "colab": {
      "collapsed_sections": [],
      "name": "prev_acoes",
      "provenance": [],
      "include_colab_link": true
    },
    "kernelspec": {
      "display_name": "Python 3",
      "name": "python3"
    }
  },
  "nbformat": 4,
  "nbformat_minor": 0
}